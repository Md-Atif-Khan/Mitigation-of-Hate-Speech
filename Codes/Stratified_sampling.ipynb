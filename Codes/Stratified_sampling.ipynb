{
 "cells": [
  {
   "cell_type": "markdown",
   "metadata": {},
   "source": [
    "Imports"
   ]
  },
  {
   "cell_type": "code",
   "execution_count": 3,
   "metadata": {},
   "outputs": [],
   "source": [
    "import json\n",
    "import os\n",
    "import numpy as np\n",
    "import pandas as pd\n",
    "import matplotlib.pyplot as plt\n",
    "import seaborn as sns\n",
    "%matplotlib inline"
   ]
  },
  {
   "cell_type": "code",
   "execution_count": 4,
   "metadata": {},
   "outputs": [],
   "source": [
    "pd.set_option('display.max_colwidth', 4000)\n",
    "pd.set_option('display.max_rows', None)\n",
    "pd.set_option('display.max_columns', None)"
   ]
  },
  {
   "cell_type": "markdown",
   "metadata": {},
   "source": [
    "Perspective Score"
   ]
  },
  {
   "cell_type": "code",
   "execution_count": 5,
   "metadata": {},
   "outputs": [
    {
     "data": {
      "text/html": [
       "<div>\n",
       "<style scoped>\n",
       "    .dataframe tbody tr th:only-of-type {\n",
       "        vertical-align: middle;\n",
       "    }\n",
       "\n",
       "    .dataframe tbody tr th {\n",
       "        vertical-align: top;\n",
       "    }\n",
       "\n",
       "    .dataframe thead th {\n",
       "        text-align: right;\n",
       "    }\n",
       "</style>\n",
       "<table border=\"1\" class=\"dataframe\">\n",
       "  <thead>\n",
       "    <tr style=\"text-align: right;\">\n",
       "      <th></th>\n",
       "      <th>Anti_Racism_post</th>\n",
       "      <th>Toxicity</th>\n",
       "      <th>Severe_Toxicity</th>\n",
       "      <th>Profanity</th>\n",
       "      <th>Insult</th>\n",
       "      <th>Threat</th>\n",
       "      <th>Identity_Attack</th>\n",
       "    </tr>\n",
       "  </thead>\n",
       "  <tbody>\n",
       "    <tr>\n",
       "      <th>0</th>\n",
       "      <td>पुलवामा में 40 जवानों की शहादत की खबर के तीन घंटे बाद भी ‘प्राइम टाइम मिनिस्टर’ फिल्म शूटिंग करते रहे।\\n\\nदेश के दिल व शहीदों के घरों में दर्द का दरिया उमड़ा था और वे हँसते हुए दरिया में फोटोशूट पर थे।\\n\\n#PhotoShootSarkarTranslate Tweet</td>\n",
       "      <td>0.285497</td>\n",
       "      <td>0.013350</td>\n",
       "      <td>0.079348</td>\n",
       "      <td>0.249285</td>\n",
       "      <td>0.065616</td>\n",
       "      <td>0.092455</td>\n",
       "    </tr>\n",
       "    <tr>\n",
       "      <th>1</th>\n",
       "      <td>Okay so NASA said today was the only day a broom can stand up on its own because of the gravitational pull...I didn’t believe it at first but OMG!  0:168.6M views</td>\n",
       "      <td>0.104362</td>\n",
       "      <td>0.004292</td>\n",
       "      <td>0.047424</td>\n",
       "      <td>0.024382</td>\n",
       "      <td>0.010421</td>\n",
       "      <td>0.015154</td>\n",
       "    </tr>\n",
       "    <tr>\n",
       "      <th>2</th>\n",
       "      <td>At a meeting in Florida today, everyone was asking why aren’t the Republicans up in arms &amp; fighting over the fact that the Democrats stole the rigged presidential election? Especially in the Senate, they said, where you helped 8 Senators win their races. How quickly they forget! This claim about election fraud is disputed</td>\n",
       "      <td>0.155456</td>\n",
       "      <td>0.003262</td>\n",
       "      <td>0.016753</td>\n",
       "      <td>0.062151</td>\n",
       "      <td>0.015429</td>\n",
       "      <td>0.036363</td>\n",
       "    </tr>\n",
       "    <tr>\n",
       "      <th>3</th>\n",
       "      <td>Mexico was just ranked the second deadliest country in the world, after only Syria. Drug trade is largely the cause. We will BUILD THE WALL!</td>\n",
       "      <td>0.377512</td>\n",
       "      <td>0.023077</td>\n",
       "      <td>0.076762</td>\n",
       "      <td>0.167734</td>\n",
       "      <td>0.135154</td>\n",
       "      <td>0.381799</td>\n",
       "    </tr>\n",
       "    <tr>\n",
       "      <th>4</th>\n",
       "      <td>Republicans want you to believe we can afford trillions in tax cuts for billionaires but only a one time $600 check for the people. Meanwhile Canada has given $2k/month since the pandemic started.\\n\\nBecause they care about their people. Republicans don’t.</td>\n",
       "      <td>0.071337</td>\n",
       "      <td>0.001211</td>\n",
       "      <td>0.012278</td>\n",
       "      <td>0.030816</td>\n",
       "      <td>0.006071</td>\n",
       "      <td>0.016963</td>\n",
       "    </tr>\n",
       "  </tbody>\n",
       "</table>\n",
       "</div>"
      ],
      "text/plain": [
       "                                                                                                                                                                                                                                                                                                                       Anti_Racism_post  \\\n",
       "0                                                                                       पुलवामा में 40 जवानों की शहादत की खबर के तीन घंटे बाद भी ‘प्राइम टाइम मिनिस्टर’ फिल्म शूटिंग करते रहे।\\n\\nदेश के दिल व शहीदों के घरों में दर्द का दरिया उमड़ा था और वे हँसते हुए दरिया में फोटोशूट पर थे।\\n\\n#PhotoShootSarkarTranslate Tweet     \n",
       "1                                                                                                                                                                   Okay so NASA said today was the only day a broom can stand up on its own because of the gravitational pull...I didn’t believe it at first but OMG!  0:168.6M views    \n",
       "2  At a meeting in Florida today, everyone was asking why aren’t the Republicans up in arms & fighting over the fact that the Democrats stole the rigged presidential election? Especially in the Senate, they said, where you helped 8 Senators win their races. How quickly they forget! This claim about election fraud is disputed    \n",
       "3                                                                                                                                                                                        Mexico was just ranked the second deadliest country in the world, after only Syria. Drug trade is largely the cause. We will BUILD THE WALL!     \n",
       "4                                                                    Republicans want you to believe we can afford trillions in tax cuts for billionaires but only a one time $600 check for the people. Meanwhile Canada has given $2k/month since the pandemic started.\\n\\nBecause they care about their people. Republicans don’t.     \n",
       "\n",
       "   Toxicity  Severe_Toxicity  Profanity    Insult    Threat  Identity_Attack  \n",
       "0  0.285497         0.013350   0.079348  0.249285  0.065616         0.092455  \n",
       "1  0.104362         0.004292   0.047424  0.024382  0.010421         0.015154  \n",
       "2  0.155456         0.003262   0.016753  0.062151  0.015429         0.036363  \n",
       "3  0.377512         0.023077   0.076762  0.167734  0.135154         0.381799  \n",
       "4  0.071337         0.001211   0.012278  0.030816  0.006071         0.016963  "
      ]
     },
     "execution_count": 5,
     "metadata": {},
     "output_type": "execute_result"
    }
   ],
   "source": [
    "per_score = pd.read_csv(\".\\\\Perspective_score_Anti_Racism_Post.csv\")\n",
    "per_score.head()"
   ]
  },
  {
   "cell_type": "code",
   "execution_count": 6,
   "metadata": {},
   "outputs": [
    {
     "data": {
      "text/html": [
       "<div>\n",
       "<style scoped>\n",
       "    .dataframe tbody tr th:only-of-type {\n",
       "        vertical-align: middle;\n",
       "    }\n",
       "\n",
       "    .dataframe tbody tr th {\n",
       "        vertical-align: top;\n",
       "    }\n",
       "\n",
       "    .dataframe thead th {\n",
       "        text-align: right;\n",
       "    }\n",
       "</style>\n",
       "<table border=\"1\" class=\"dataframe\">\n",
       "  <thead>\n",
       "    <tr style=\"text-align: right;\">\n",
       "      <th></th>\n",
       "      <th>count</th>\n",
       "      <th>mean</th>\n",
       "      <th>std</th>\n",
       "      <th>min</th>\n",
       "      <th>25%</th>\n",
       "      <th>50%</th>\n",
       "      <th>75%</th>\n",
       "      <th>max</th>\n",
       "    </tr>\n",
       "  </thead>\n",
       "  <tbody>\n",
       "    <tr>\n",
       "      <th>Toxicity</th>\n",
       "      <td>3537.0</td>\n",
       "      <td>0.232543</td>\n",
       "      <td>0.187586</td>\n",
       "      <td>0.008294</td>\n",
       "      <td>0.091122</td>\n",
       "      <td>0.184591</td>\n",
       "      <td>0.335877</td>\n",
       "      <td>0.960691</td>\n",
       "    </tr>\n",
       "    <tr>\n",
       "      <th>Severe_Toxicity</th>\n",
       "      <td>3537.0</td>\n",
       "      <td>0.024724</td>\n",
       "      <td>0.072388</td>\n",
       "      <td>0.000536</td>\n",
       "      <td>0.002413</td>\n",
       "      <td>0.004921</td>\n",
       "      <td>0.013156</td>\n",
       "      <td>0.614766</td>\n",
       "    </tr>\n",
       "    <tr>\n",
       "      <th>Profanity</th>\n",
       "      <td>3537.0</td>\n",
       "      <td>0.093234</td>\n",
       "      <td>0.145011</td>\n",
       "      <td>0.009443</td>\n",
       "      <td>0.018461</td>\n",
       "      <td>0.030139</td>\n",
       "      <td>0.092280</td>\n",
       "      <td>0.915133</td>\n",
       "    </tr>\n",
       "    <tr>\n",
       "      <th>Insult</th>\n",
       "      <td>3537.0</td>\n",
       "      <td>0.166036</td>\n",
       "      <td>0.190884</td>\n",
       "      <td>0.006772</td>\n",
       "      <td>0.026960</td>\n",
       "      <td>0.072067</td>\n",
       "      <td>0.252060</td>\n",
       "      <td>0.891089</td>\n",
       "    </tr>\n",
       "    <tr>\n",
       "      <th>Threat</th>\n",
       "      <td>3537.0</td>\n",
       "      <td>0.037155</td>\n",
       "      <td>0.073823</td>\n",
       "      <td>0.005900</td>\n",
       "      <td>0.008686</td>\n",
       "      <td>0.011405</td>\n",
       "      <td>0.026307</td>\n",
       "      <td>0.603255</td>\n",
       "    </tr>\n",
       "    <tr>\n",
       "      <th>Identity_Attack</th>\n",
       "      <td>3537.0</td>\n",
       "      <td>0.085221</td>\n",
       "      <td>0.120656</td>\n",
       "      <td>0.001693</td>\n",
       "      <td>0.011173</td>\n",
       "      <td>0.028629</td>\n",
       "      <td>0.102216</td>\n",
       "      <td>0.622012</td>\n",
       "    </tr>\n",
       "  </tbody>\n",
       "</table>\n",
       "</div>"
      ],
      "text/plain": [
       "                  count      mean       std       min       25%       50%  \\\n",
       "Toxicity         3537.0  0.232543  0.187586  0.008294  0.091122  0.184591   \n",
       "Severe_Toxicity  3537.0  0.024724  0.072388  0.000536  0.002413  0.004921   \n",
       "Profanity        3537.0  0.093234  0.145011  0.009443  0.018461  0.030139   \n",
       "Insult           3537.0  0.166036  0.190884  0.006772  0.026960  0.072067   \n",
       "Threat           3537.0  0.037155  0.073823  0.005900  0.008686  0.011405   \n",
       "Identity_Attack  3537.0  0.085221  0.120656  0.001693  0.011173  0.028629   \n",
       "\n",
       "                      75%       max  \n",
       "Toxicity         0.335877  0.960691  \n",
       "Severe_Toxicity  0.013156  0.614766  \n",
       "Profanity        0.092280  0.915133  \n",
       "Insult           0.252060  0.891089  \n",
       "Threat           0.026307  0.603255  \n",
       "Identity_Attack  0.102216  0.622012  "
      ]
     },
     "execution_count": 6,
     "metadata": {},
     "output_type": "execute_result"
    }
   ],
   "source": [
    "per_score.describe().T"
   ]
  },
  {
   "cell_type": "code",
   "execution_count": 7,
   "metadata": {},
   "outputs": [
    {
     "data": {
      "text/plain": [
       "Text(0, 0.5, 'Frequency')"
      ]
     },
     "execution_count": 7,
     "metadata": {},
     "output_type": "execute_result"
    },
    {
     "data": {
      "image/png": "[encoded data removed]",
      "text/plain": [
       "<Figure size 1500x600 with 1 Axes>"
      ]
     },
     "metadata": {},
     "output_type": "display_data"
    }
   ],
   "source": [
    "plt.figure(figsize=(15, 6))\n",
    "sns.histplot(data = per_score, x = 'Toxicity', kde=True)\n",
    "plt.xticks(np.arange(0, 1, 0.05))\n",
    "plt.xlabel('Toxicity')\n",
    "plt.ylabel('Frequency')"
   ]
  },
  {
   "cell_type": "code",
   "execution_count": 8,
   "metadata": {},
   "outputs": [
    {
     "data": {
      "text/plain": [
       "<Axes: xlabel='Severe_Toxicity', ylabel='Count'>"
      ]
     },
     "execution_count": 8,
     "metadata": {},
     "output_type": "execute_result"
    },
    {
     "data": {
      "image/png": "[encoded data removed]",
      "text/plain": [
       "<Figure size 1500x600 with 1 Axes>"
      ]
     },
     "metadata": {},
     "output_type": "display_data"
    }
   ],
   "source": [
    "plt.figure(figsize=(15, 6))\n",
    "sns.histplot(data = per_score, x = 'Severe_Toxicity')"
   ]
  },
  {
   "cell_type": "code",
   "execution_count": 9,
   "metadata": {},
   "outputs": [
    {
     "name": "stdout",
     "output_type": "stream",
     "text": [
      "(816, 7)\n"
     ]
    }
   ],
   "source": [
    "df1 = per_score[(per_score['Toxicity'] >= 0.35)].sort_values(by='Toxicity')\n",
    "# df1 = random_sample[(per_score['Toxicity'] >= 0.5) & (per_score['Toxicity'] <= 0.6)].sort_values(by='Toxicity')\n",
    "print(df1.shape)"
   ]
  },
  {
   "cell_type": "code",
   "execution_count": 10,
   "metadata": {},
   "outputs": [
    {
     "name": "stdout",
     "output_type": "stream",
     "text": [
      "0.008293601\n",
      "0.96069145\n"
     ]
    }
   ],
   "source": [
    "lowest_tox = per_score['Toxicity'].min()\n",
    "highest_tox = per_score['Toxicity'].max()\n",
    "print(lowest_tox)\n",
    "print(highest_tox)"
   ]
  },
  {
   "cell_type": "code",
   "execution_count": 11,
   "metadata": {},
   "outputs": [],
   "source": [
    "slab_diff = 0.04\n",
    "\n",
    "range_tox = np.linspace(lowest_tox, highest_tox + slab_diff, int((highest_tox - lowest_tox) / slab_diff) + 1)\n",
    "\n",
    "slab_cnt = pd.DataFrame({\n",
    "    'Toxicity_Lower': range_tox[:-1],\n",
    "    'Toxicity_Upper': range_tox[1:],\n",
    "    'Count': 0\n",
    "})\n",
    "\n",
    "for index, row in per_score.iterrows():\n",
    "    for i, slab in slab_cnt.iterrows():\n",
    "        if row['Toxicity'] >= slab['Toxicity_Lower'] and row['Toxicity'] < slab['Toxicity_Upper']:\n",
    "            slab_cnt.at[i, 'Count'] += 1\n",
    "            break"
   ]
  },
  {
   "cell_type": "code",
   "execution_count": 12,
   "metadata": {},
   "outputs": [
    {
     "data": {
      "text/html": [
       "<div>\n",
       "<style scoped>\n",
       "    .dataframe tbody tr th:only-of-type {\n",
       "        vertical-align: middle;\n",
       "    }\n",
       "\n",
       "    .dataframe tbody tr th {\n",
       "        vertical-align: top;\n",
       "    }\n",
       "\n",
       "    .dataframe thead th {\n",
       "        text-align: right;\n",
       "    }\n",
       "</style>\n",
       "<table border=\"1\" class=\"dataframe\">\n",
       "  <thead>\n",
       "    <tr style=\"text-align: right;\">\n",
       "      <th></th>\n",
       "      <th>Toxicity_Lower</th>\n",
       "      <th>Toxicity_Upper</th>\n",
       "      <th>Count</th>\n",
       "    </tr>\n",
       "  </thead>\n",
       "  <tbody>\n",
       "    <tr>\n",
       "      <th>0</th>\n",
       "      <td>0.008294</td>\n",
       "      <td>0.051441</td>\n",
       "      <td>582</td>\n",
       "    </tr>\n",
       "    <tr>\n",
       "      <th>1</th>\n",
       "      <td>0.051441</td>\n",
       "      <td>0.094589</td>\n",
       "      <td>337</td>\n",
       "    </tr>\n",
       "    <tr>\n",
       "      <th>2</th>\n",
       "      <td>0.094589</td>\n",
       "      <td>0.137737</td>\n",
       "      <td>480</td>\n",
       "    </tr>\n",
       "    <tr>\n",
       "      <th>3</th>\n",
       "      <td>0.137737</td>\n",
       "      <td>0.180885</td>\n",
       "      <td>351</td>\n",
       "    </tr>\n",
       "    <tr>\n",
       "      <th>4</th>\n",
       "      <td>0.180885</td>\n",
       "      <td>0.224032</td>\n",
       "      <td>252</td>\n",
       "    </tr>\n",
       "    <tr>\n",
       "      <th>5</th>\n",
       "      <td>0.224032</td>\n",
       "      <td>0.267180</td>\n",
       "      <td>291</td>\n",
       "    </tr>\n",
       "    <tr>\n",
       "      <th>6</th>\n",
       "      <td>0.267180</td>\n",
       "      <td>0.310328</td>\n",
       "      <td>234</td>\n",
       "    </tr>\n",
       "    <tr>\n",
       "      <th>7</th>\n",
       "      <td>0.310328</td>\n",
       "      <td>0.353475</td>\n",
       "      <td>200</td>\n",
       "    </tr>\n",
       "    <tr>\n",
       "      <th>8</th>\n",
       "      <td>0.353475</td>\n",
       "      <td>0.396623</td>\n",
       "      <td>190</td>\n",
       "    </tr>\n",
       "    <tr>\n",
       "      <th>9</th>\n",
       "      <td>0.396623</td>\n",
       "      <td>0.439771</td>\n",
       "      <td>169</td>\n",
       "    </tr>\n",
       "    <tr>\n",
       "      <th>10</th>\n",
       "      <td>0.439771</td>\n",
       "      <td>0.482919</td>\n",
       "      <td>109</td>\n",
       "    </tr>\n",
       "    <tr>\n",
       "      <th>11</th>\n",
       "      <td>0.482919</td>\n",
       "      <td>0.526066</td>\n",
       "      <td>62</td>\n",
       "    </tr>\n",
       "    <tr>\n",
       "      <th>12</th>\n",
       "      <td>0.526066</td>\n",
       "      <td>0.569214</td>\n",
       "      <td>37</td>\n",
       "    </tr>\n",
       "    <tr>\n",
       "      <th>13</th>\n",
       "      <td>0.569214</td>\n",
       "      <td>0.612362</td>\n",
       "      <td>55</td>\n",
       "    </tr>\n",
       "    <tr>\n",
       "      <th>14</th>\n",
       "      <td>0.612362</td>\n",
       "      <td>0.655510</td>\n",
       "      <td>35</td>\n",
       "    </tr>\n",
       "    <tr>\n",
       "      <th>15</th>\n",
       "      <td>0.655510</td>\n",
       "      <td>0.698657</td>\n",
       "      <td>51</td>\n",
       "    </tr>\n",
       "    <tr>\n",
       "      <th>16</th>\n",
       "      <td>0.698657</td>\n",
       "      <td>0.741805</td>\n",
       "      <td>19</td>\n",
       "    </tr>\n",
       "    <tr>\n",
       "      <th>17</th>\n",
       "      <td>0.741805</td>\n",
       "      <td>0.784953</td>\n",
       "      <td>33</td>\n",
       "    </tr>\n",
       "    <tr>\n",
       "      <th>18</th>\n",
       "      <td>0.784953</td>\n",
       "      <td>0.828101</td>\n",
       "      <td>15</td>\n",
       "    </tr>\n",
       "    <tr>\n",
       "      <th>19</th>\n",
       "      <td>0.828101</td>\n",
       "      <td>0.871248</td>\n",
       "      <td>18</td>\n",
       "    </tr>\n",
       "    <tr>\n",
       "      <th>20</th>\n",
       "      <td>0.871248</td>\n",
       "      <td>0.914396</td>\n",
       "      <td>4</td>\n",
       "    </tr>\n",
       "    <tr>\n",
       "      <th>21</th>\n",
       "      <td>0.914396</td>\n",
       "      <td>0.957544</td>\n",
       "      <td>12</td>\n",
       "    </tr>\n",
       "    <tr>\n",
       "      <th>22</th>\n",
       "      <td>0.957544</td>\n",
       "      <td>1.000691</td>\n",
       "      <td>1</td>\n",
       "    </tr>\n",
       "  </tbody>\n",
       "</table>\n",
       "</div>"
      ],
      "text/plain": [
       "    Toxicity_Lower  Toxicity_Upper  Count\n",
       "0         0.008294        0.051441    582\n",
       "1         0.051441        0.094589    337\n",
       "2         0.094589        0.137737    480\n",
       "3         0.137737        0.180885    351\n",
       "4         0.180885        0.224032    252\n",
       "5         0.224032        0.267180    291\n",
       "6         0.267180        0.310328    234\n",
       "7         0.310328        0.353475    200\n",
       "8         0.353475        0.396623    190\n",
       "9         0.396623        0.439771    169\n",
       "10        0.439771        0.482919    109\n",
       "11        0.482919        0.526066     62\n",
       "12        0.526066        0.569214     37\n",
       "13        0.569214        0.612362     55\n",
       "14        0.612362        0.655510     35\n",
       "15        0.655510        0.698657     51\n",
       "16        0.698657        0.741805     19\n",
       "17        0.741805        0.784953     33\n",
       "18        0.784953        0.828101     15\n",
       "19        0.828101        0.871248     18\n",
       "20        0.871248        0.914396      4\n",
       "21        0.914396        0.957544     12\n",
       "22        0.957544        1.000691      1"
      ]
     },
     "execution_count": 12,
     "metadata": {},
     "output_type": "execute_result"
    }
   ],
   "source": [
    "slab_cnt.head(30)"
   ]
  },
  {
   "cell_type": "code",
   "execution_count": 13,
   "metadata": {},
   "outputs": [
    {
     "data": {
      "text/plain": [
       "0"
      ]
     },
     "execution_count": 13,
     "metadata": {},
     "output_type": "execute_result"
    }
   ],
   "source": [
    "(slab_cnt['Count'] == 0).sum()"
   ]
  },
  {
   "cell_type": "code",
   "execution_count": 14,
   "metadata": {},
   "outputs": [
    {
     "data": {
      "text/plain": [
       "3537"
      ]
     },
     "execution_count": 14,
     "metadata": {},
     "output_type": "execute_result"
    }
   ],
   "source": [
    "slab_cnt['Count'].sum()"
   ]
  },
  {
   "cell_type": "code",
   "execution_count": 15,
   "metadata": {},
   "outputs": [
    {
     "data": {
      "text/plain": [
       "([0,\n",
       "  1,\n",
       "  2,\n",
       "  3,\n",
       "  4,\n",
       "  5,\n",
       "  6,\n",
       "  7,\n",
       "  8,\n",
       "  9,\n",
       "  10,\n",
       "  11,\n",
       "  12,\n",
       "  13,\n",
       "  14,\n",
       "  15,\n",
       "  16,\n",
       "  17,\n",
       "  18,\n",
       "  19,\n",
       "  20,\n",
       "  21,\n",
       "  22],\n",
       " [Text(0, 0, '0.008293601'),\n",
       "  Text(1, 0, '0.051441333565217386'),\n",
       "  Text(2, 0, '0.09458906613043477'),\n",
       "  Text(3, 0, '0.13773679869565217'),\n",
       "  Text(4, 0, '0.18088453126086956'),\n",
       "  Text(5, 0, '0.22403226382608696'),\n",
       "  Text(6, 0, '0.2671799963913043'),\n",
       "  Text(7, 0, '0.3103277289565217'),\n",
       "  Text(8, 0, '0.3534754615217391'),\n",
       "  Text(9, 0, '0.39662319408695645'),\n",
       "  Text(10, 0, '0.4397709266521739'),\n",
       "  Text(11, 0, '0.48291865921739124'),\n",
       "  Text(12, 0, '0.5260663917826086'),\n",
       "  Text(13, 0, '0.569214124347826'),\n",
       "  Text(14, 0, '0.6123618569130435'),\n",
       "  Text(15, 0, '0.6555095894782608'),\n",
       "  Text(16, 0, '0.6986573220434782'),\n",
       "  Text(17, 0, '0.7418050546086956'),\n",
       "  Text(18, 0, '0.7849527871739129'),\n",
       "  Text(19, 0, '0.8281005197391303'),\n",
       "  Text(20, 0, '0.8712482523043478'),\n",
       "  Text(21, 0, '0.9143959848695651'),\n",
       "  Text(22, 0, '0.9575437174347825')])"
      ]
     },
     "execution_count": 15,
     "metadata": {},
     "output_type": "execute_result"
    },
    {
     "data": {
      "image/png": "[encoded data removed]",
      "text/plain": [
       "<Figure size 1500x600 with 1 Axes>"
      ]
     },
     "metadata": {},
     "output_type": "display_data"
    }
   ],
   "source": [
    "plt.figure(figsize=(15, 6))\n",
    "ax = sns.barplot(x='Toxicity_Lower', y='Count', data=slab_cnt)\n",
    "# plt.hist(data = slab_cnt, x = 'Count', bins=30, align='left', color='blue')\n",
    "\n",
    "# ax.set_xlim([0,1])\n",
    "# ax.set_ylim([0, 420])\n",
    "# ax.set_xticks(np.linspace(0, 1, 30))\n",
    "# ax.set_yticks(np.linspace(0, 350, 10))\n",
    "\n",
    "plt.title('Toxicity Score Distribution')\n",
    "plt.xlabel('Toxicity Score')\n",
    "plt.ylabel('Count')\n",
    "plt.xticks(rotation=70)"
   ]
  },
  {
   "cell_type": "code",
   "execution_count": 16,
   "metadata": {},
   "outputs": [],
   "source": [
    "per_score['Toxicity_cat'] = pd.cut(per_score['Toxicity'], bins=np.arange(0, 1.04, 0.04), labels=False)"
   ]
  },
  {
   "cell_type": "code",
   "execution_count": 17,
   "metadata": {},
   "outputs": [],
   "source": [
    "per_score.sort_values(by='Toxicity', inplace = True)\n",
    "per_score = per_score.iloc[:-4]"
   ]
  },
  {
   "cell_type": "code",
   "execution_count": null,
   "metadata": {},
   "outputs": [],
   "source": [
    "per_score.iloc[-30:]"
   ]
  },
  {
   "cell_type": "code",
   "execution_count": 19,
   "metadata": {},
   "outputs": [
    {
     "data": {
      "text/plain": [
       "(3537, 8)"
      ]
     },
     "execution_count": 19,
     "metadata": {},
     "output_type": "execute_result"
    }
   ],
   "source": [
    "per_score.shape"
   ]
  },
  {
   "cell_type": "code",
   "execution_count": null,
   "metadata": {},
   "outputs": [],
   "source": [
    "per_score['Toxicity_cat'].value_counts(sort = False)"
   ]
  },
  {
   "cell_type": "code",
   "execution_count": 21,
   "metadata": {},
   "outputs": [],
   "source": [
    "per_score.loc[per_score['Toxicity_cat']>21, 'Toxicity_cat'] = 22"
   ]
  },
  {
   "cell_type": "code",
   "execution_count": 22,
   "metadata": {},
   "outputs": [
    {
     "data": {
      "text/plain": [
       "Toxicity_cat\n",
       "0.0     406\n",
       "1.0     398\n",
       "2.0     513\n",
       "3.0     276\n",
       "4.0     278\n",
       "5.0     249\n",
       "6.0     228\n",
       "7.0     206\n",
       "8.0     174\n",
       "9.0     225\n",
       "10.0    137\n",
       "11.0     96\n",
       "12.0     54\n",
       "13.0     46\n",
       "14.0     49\n",
       "15.0     29\n",
       "16.0     40\n",
       "17.0     42\n",
       "18.0     24\n",
       "19.0     26\n",
       "20.0     10\n",
       "21.0     15\n",
       "22.0     16\n",
       "Name: count, dtype: int64"
      ]
     },
     "execution_count": 22,
     "metadata": {},
     "output_type": "execute_result"
    }
   ],
   "source": [
    "per_score['Toxicity_cat'].value_counts(sort = False)"
   ]
  },
  {
   "cell_type": "code",
   "execution_count": 23,
   "metadata": {},
   "outputs": [],
   "source": [
    "avg_severe_toxicity = per_score['Severe_Toxicity'].mean()\n",
    "avg_toxicity = per_score['Toxicity'].mean()"
   ]
  },
  {
   "cell_type": "markdown",
   "metadata": {},
   "source": [
    "Source: https://www.calculator.net/sample-size-calculator.html?type=1&cl=95&ci=5&pp=50&ps=3537&x=Calculate\n",
    "Formula used: \n",
    "Confidence Level: 95%\n",
    "Margin of Error: 5%\n",
    "Population Proportion: 50 (Use 50% if not sure)\n",
    "Population Size: 3537 (Leave blank if unlimited population size)"
   ]
  },
  {
   "cell_type": "markdown",
   "metadata": {},
   "source": [
    "STRATIFIED_SAMPLE 1"
   ]
  },
  {
   "cell_type": "code",
   "execution_count": 24,
   "metadata": {},
   "outputs": [
    {
     "name": "stderr",
     "output_type": "stream",
     "text": [
      "C:\\Users\\saskh\\AppData\\Local\\Temp\\ipykernel_16892\\2986577675.py:2: DeprecationWarning: DataFrameGroupBy.apply operated on the grouping columns. This behavior is deprecated, and in a future version of pandas the grouping columns will be excluded from the operation. Either pass `include_groups=False` to exclude the groupings or explicitly select the grouping columns after groupby to silence this warning.\n",
      "  stratified_sample1 = per_score.groupby('Toxicity_cat').apply(lambda x: x.sample(int(len(x) * sample_proportion), random_state=42)).reset_index(drop=True)\n"
     ]
    }
   ],
   "source": [
    "sample_proportion = 360 / len(per_score)\n",
    "stratified_sample1 = per_score.groupby('Toxicity_cat').apply(lambda x: x.sample(int(len(x) * sample_proportion), random_state=42)).reset_index(drop=True)"
   ]
  },
  {
   "cell_type": "code",
   "execution_count": 25,
   "metadata": {},
   "outputs": [
    {
     "name": "stdout",
     "output_type": "stream",
     "text": [
      "(348, 8)\n"
     ]
    },
    {
     "data": {
      "text/plain": [
       "Toxicity_cat\n",
       "0.0     41\n",
       "1.0     40\n",
       "2.0     52\n",
       "3.0     28\n",
       "4.0     28\n",
       "5.0     25\n",
       "6.0     23\n",
       "7.0     20\n",
       "8.0     17\n",
       "9.0     22\n",
       "10.0    13\n",
       "11.0     9\n",
       "12.0     5\n",
       "13.0     4\n",
       "14.0     4\n",
       "15.0     2\n",
       "16.0     4\n",
       "17.0     4\n",
       "18.0     2\n",
       "19.0     2\n",
       "20.0     1\n",
       "21.0     1\n",
       "22.0     1\n",
       "Name: count, dtype: int64"
      ]
     },
     "execution_count": 25,
     "metadata": {},
     "output_type": "execute_result"
    }
   ],
   "source": [
    "print(stratified_sample1.shape)\n",
    "stratified_sample1['Toxicity_cat'].value_counts(sort = False)"
   ]
  },
  {
   "cell_type": "code",
   "execution_count": 26,
   "metadata": {},
   "outputs": [
    {
     "name": "stdout",
     "output_type": "stream",
     "text": [
      "<class 'pandas.core.frame.DataFrame'>\n",
      "RangeIndex: 348 entries, 0 to 347\n",
      "Data columns (total 8 columns):\n",
      " #   Column            Non-Null Count  Dtype  \n",
      "---  ------            --------------  -----  \n",
      " 0   Anti_Racism_post  348 non-null    object \n",
      " 1   Toxicity          348 non-null    float64\n",
      " 2   Severe_Toxicity   348 non-null    float64\n",
      " 3   Profanity         348 non-null    float64\n",
      " 4   Insult            348 non-null    float64\n",
      " 5   Threat            348 non-null    float64\n",
      " 6   Identity_Attack   348 non-null    float64\n",
      " 7   Toxicity_cat      348 non-null    float64\n",
      "dtypes: float64(7), object(1)\n",
      "memory usage: 21.9+ KB\n"
     ]
    }
   ],
   "source": [
    "stratified_sample1.info()"
   ]
  },
  {
   "cell_type": "code",
   "execution_count": 27,
   "metadata": {},
   "outputs": [
    {
     "name": "stdout",
     "output_type": "stream",
     "text": [
      "(22, 8)\n",
      "0.01522425404090909\n"
     ]
    },
    {
     "data": {
      "text/html": [
       "<div>\n",
       "<style scoped>\n",
       "    .dataframe tbody tr th:only-of-type {\n",
       "        vertical-align: middle;\n",
       "    }\n",
       "\n",
       "    .dataframe tbody tr th {\n",
       "        vertical-align: top;\n",
       "    }\n",
       "\n",
       "    .dataframe thead th {\n",
       "        text-align: right;\n",
       "    }\n",
       "</style>\n",
       "<table border=\"1\" class=\"dataframe\">\n",
       "  <thead>\n",
       "    <tr style=\"text-align: right;\">\n",
       "      <th></th>\n",
       "      <th>Anti_Racism_post</th>\n",
       "      <th>Toxicity</th>\n",
       "      <th>Severe_Toxicity</th>\n",
       "      <th>Profanity</th>\n",
       "      <th>Insult</th>\n",
       "      <th>Threat</th>\n",
       "      <th>Identity_Attack</th>\n",
       "      <th>Toxicity_cat</th>\n",
       "    </tr>\n",
       "  </thead>\n",
       "  <tbody>\n",
       "    <tr>\n",
       "      <th>274</th>\n",
       "      <td>Watching Governor Cuomo is a case study in chutzpah.Cuomo’s policies led to the unnecessary death of thousands.He presided over 20% of all the American deaths from the Chinese Virus.His answer:attack Trump. Of course anti-Trump media applauds Cuomo while he lies.</td>\n",
       "      <td>0.360951</td>\n",
       "      <td>0.009117</td>\n",
       "      <td>0.037904</td>\n",
       "      <td>0.338892</td>\n",
       "      <td>0.040984</td>\n",
       "      <td>0.066587</td>\n",
       "      <td>9.0</td>\n",
       "    </tr>\n",
       "    <tr>\n",
       "      <th>289</th>\n",
       "      <td>Replying to @realDonaldTrump The #TrumpTapes will go down in infamy, showing a weak and ineffective 'president' trying to overturn the will of 81 million people who voted against him.</td>\n",
       "      <td>0.360951</td>\n",
       "      <td>0.006104</td>\n",
       "      <td>0.025771</td>\n",
       "      <td>0.384060</td>\n",
       "      <td>0.010318</td>\n",
       "      <td>0.017867</td>\n",
       "      <td>9.0</td>\n",
       "    </tr>\n",
       "    <tr>\n",
       "      <th>288</th>\n",
       "      <td>So, Trump is a deadlier virus than COVID? Quote TweetRep. Matt Gaetz@RepMattGaetz · Oct 5, 2020President Trump won't have to recover from COVID. \\n\\nCOVID will have to recover from President Trump. #MAGA</td>\n",
       "      <td>0.360951</td>\n",
       "      <td>0.011902</td>\n",
       "      <td>0.024541</td>\n",
       "      <td>0.388520</td>\n",
       "      <td>0.014739</td>\n",
       "      <td>0.035847</td>\n",
       "      <td>9.0</td>\n",
       "    </tr>\n",
       "    <tr>\n",
       "      <th>287</th>\n",
       "      <td>Trump is lying a lot in his speech that's billed as a White House event but is just a campaign rally. One example: He claimed that the coronavirus is disappearing as he is still infected with the virus. Trump is lying about: Biden, Democrats, COVID, his achievements, and more.</td>\n",
       "      <td>0.360951</td>\n",
       "      <td>0.007286</td>\n",
       "      <td>0.060951</td>\n",
       "      <td>0.342037</td>\n",
       "      <td>0.008764</td>\n",
       "      <td>0.043839</td>\n",
       "      <td>9.0</td>\n",
       "    </tr>\n",
       "    <tr>\n",
       "      <th>285</th>\n",
       "      <td>Some liberals are so spooked that they think Trump denying the virus, telling everyone we’ve turned the corner, mocked mask wearing, and then getting the virus after failing to protect the country could all somehow be good for his election. The world is crazy. It’s not that crazy</td>\n",
       "      <td>0.360951</td>\n",
       "      <td>0.008850</td>\n",
       "      <td>0.112304</td>\n",
       "      <td>0.348603</td>\n",
       "      <td>0.008919</td>\n",
       "      <td>0.080047</td>\n",
       "      <td>9.0</td>\n",
       "    </tr>\n",
       "    <tr>\n",
       "      <th>295</th>\n",
       "      <td>Gets under my skin when they call it the China virus.</td>\n",
       "      <td>0.360951</td>\n",
       "      <td>0.018385</td>\n",
       "      <td>0.129038</td>\n",
       "      <td>0.188530</td>\n",
       "      <td>0.024753</td>\n",
       "      <td>0.381799</td>\n",
       "      <td>9.0</td>\n",
       "    </tr>\n",
       "    <tr>\n",
       "      <th>290</th>\n",
       "      <td>#Bobwoodward took down a lying, immoral, unfit President with tapes. Looks like he’s going to do it again. \\n\\nON TAPE— on FEBRUARY 7– BEFORE the first COVID case in the USA. #TrumpKnew it was DEADLY, and INTENTIONALLY lied about it to us and did NOTHING. 200,000 DEAD. Quote TweetCNN Politics@CNNPolitics · Sep 9, 2020In new tapes, President Trump admits to Bob Woodward he concealed critical details he knew about the coronavirus. \"I wanted to always play it down.\" https://cnn.it/3bFjswx</td>\n",
       "      <td>0.368677</td>\n",
       "      <td>0.009918</td>\n",
       "      <td>0.024473</td>\n",
       "      <td>0.417675</td>\n",
       "      <td>0.009515</td>\n",
       "      <td>0.012541</td>\n",
       "      <td>9.0</td>\n",
       "    </tr>\n",
       "    <tr>\n",
       "      <th>284</th>\n",
       "      <td>Trump has had the Covid-19 relief bill for days. He failed to sign it as of last night, allowing unemployment benefits to expire for millions of Americans. \\n\\nHis negligence and denials allowed the virus to spread. Now his incompetence and ego are worsening the economic crisis.</td>\n",
       "      <td>0.370732</td>\n",
       "      <td>0.005150</td>\n",
       "      <td>0.020169</td>\n",
       "      <td>0.402434</td>\n",
       "      <td>0.007457</td>\n",
       "      <td>0.018269</td>\n",
       "      <td>9.0</td>\n",
       "    </tr>\n",
       "    <tr>\n",
       "      <th>294</th>\n",
       "      <td>Fake news! Not Chinese language!! Not even Chinese police uniform!!! This is sheer propaganda against China, trying to sabotage relations between China &amp; muslim countryies. There’s no ‘East Turkistan’ in China. Only terrorists &amp; their sympathizers call Xinjiang ‘East Turkistan’. https://twitter.com/AnilaKhan1995/status/1079867200633221120… This Tweet is unavailable.</td>\n",
       "      <td>0.374586</td>\n",
       "      <td>0.018320</td>\n",
       "      <td>0.084844</td>\n",
       "      <td>0.232375</td>\n",
       "      <td>0.034768</td>\n",
       "      <td>0.381799</td>\n",
       "      <td>9.0</td>\n",
       "    </tr>\n",
       "    <tr>\n",
       "      <th>281</th>\n",
       "      <td>When President-elect Biden is sworn in, we’ll have to ask the question “Did Emily Murphy’s negligence result in anyone dying?” And if the answer is yes, Emily should spend the rest of her life in prison. This is not a game. Emily has no right to stall. Shame on @GSAEmily forever.</td>\n",
       "      <td>0.375766</td>\n",
       "      <td>0.010910</td>\n",
       "      <td>0.064458</td>\n",
       "      <td>0.345482</td>\n",
       "      <td>0.053008</td>\n",
       "      <td>0.025404</td>\n",
       "      <td>9.0</td>\n",
       "    </tr>\n",
       "    <tr>\n",
       "      <th>276</th>\n",
       "      <td>Replying to @realDonaldTrump and @seanhannity \"You knew damn well I was a snake before you took me in\" \\n\\nThey knew \\n\\nLindsey Graham knew.\\nMarco Rubio knew.\\nTed Cruz knew.\\nRand Paul knew.\\nNikki Haley knew.\\nKellyanne Conway knew.\\nMike Pompeo knew.\\nRick Perry knew.\\nSusan Collins knew.\\n\\nThey all knew. 1:4717.4M viewsFrom act.tv</td>\n",
       "      <td>0.377512</td>\n",
       "      <td>0.021806</td>\n",
       "      <td>0.394096</td>\n",
       "      <td>0.338892</td>\n",
       "      <td>0.011379</td>\n",
       "      <td>0.023997</td>\n",
       "      <td>9.0</td>\n",
       "    </tr>\n",
       "    <tr>\n",
       "      <th>292</th>\n",
       "      <td>It's not the China Virus.\\nIt's the #TrumpVirus.\\n\\nPASS IT ON.</td>\n",
       "      <td>0.377512</td>\n",
       "      <td>0.020903</td>\n",
       "      <td>0.046672</td>\n",
       "      <td>0.341012</td>\n",
       "      <td>0.035113</td>\n",
       "      <td>0.271716</td>\n",
       "      <td>9.0</td>\n",
       "    </tr>\n",
       "    <tr>\n",
       "      <th>278</th>\n",
       "      <td>Trump &amp; Co can call it whatever they want. “Chinese Virus”, “Kung Fu Pandemic”...whatever dumb name they want. It won’t solve the problem. It won’t accelerate finding a cure. Fact is, viruses don’t discriminate based on ethnicity. We are global citizens. We’re in this together.</td>\n",
       "      <td>0.377959</td>\n",
       "      <td>0.015480</td>\n",
       "      <td>0.207002</td>\n",
       "      <td>0.392980</td>\n",
       "      <td>0.021300</td>\n",
       "      <td>0.202859</td>\n",
       "      <td>9.0</td>\n",
       "    </tr>\n",
       "    <tr>\n",
       "      <th>293</th>\n",
       "      <td>#BidenTheRapist is trending. What do you think? RT</td>\n",
       "      <td>0.386017</td>\n",
       "      <td>0.024303</td>\n",
       "      <td>0.272749</td>\n",
       "      <td>0.269578</td>\n",
       "      <td>0.119229</td>\n",
       "      <td>0.112800</td>\n",
       "      <td>9.0</td>\n",
       "    </tr>\n",
       "    <tr>\n",
       "      <th>283</th>\n",
       "      <td>Let me get something straight\\n\\nIt’s racist to say “Chinese virus”, despite the fact that it originated in China, and but we’re perfectly happy naming Ebola, named after a river near the Congo, and the Spanish flu? \\n\\nSounds like Chinese state propaganda &amp; nonsensical wokeism to me</td>\n",
       "      <td>0.392316</td>\n",
       "      <td>0.021806</td>\n",
       "      <td>0.174273</td>\n",
       "      <td>0.289975</td>\n",
       "      <td>0.013166</td>\n",
       "      <td>0.381799</td>\n",
       "      <td>9.0</td>\n",
       "    </tr>\n",
       "    <tr>\n",
       "      <th>280</th>\n",
       "      <td>President Trump was lying to the American people about COVID-19 and downplaying the virus.\\n\\nIf there’s a five-alarm fire in the house, you don’t keep quiet. You have to let the people inside know the house is burning or they’re going to die.</td>\n",
       "      <td>0.394416</td>\n",
       "      <td>0.023077</td>\n",
       "      <td>0.123750</td>\n",
       "      <td>0.247670</td>\n",
       "      <td>0.416234</td>\n",
       "      <td>0.062495</td>\n",
       "      <td>9.0</td>\n",
       "    </tr>\n",
       "    <tr>\n",
       "      <th>282</th>\n",
       "      <td>\"groveling\" when he totally changed a 16 year old story that he had written in order to make me look bad. Just more very dishonest media!</td>\n",
       "      <td>0.394416</td>\n",
       "      <td>0.012436</td>\n",
       "      <td>0.119113</td>\n",
       "      <td>0.367985</td>\n",
       "      <td>0.012441</td>\n",
       "      <td>0.036621</td>\n",
       "      <td>9.0</td>\n",
       "    </tr>\n",
       "    <tr>\n",
       "      <th>291</th>\n",
       "      <td>And this is why #USA is the state as it is now  #TrumpVirus #TrumpTheDisaster</td>\n",
       "      <td>0.394416</td>\n",
       "      <td>0.023077</td>\n",
       "      <td>0.122207</td>\n",
       "      <td>0.415303</td>\n",
       "      <td>0.032350</td>\n",
       "      <td>0.169933</td>\n",
       "      <td>9.0</td>\n",
       "    </tr>\n",
       "    <tr>\n",
       "      <th>275</th>\n",
       "      <td>Is referring to COVID-19 as the \"Chinese Virus\" racist?</td>\n",
       "      <td>0.396442</td>\n",
       "      <td>0.020128</td>\n",
       "      <td>0.122868</td>\n",
       "      <td>0.298550</td>\n",
       "      <td>0.011457</td>\n",
       "      <td>0.402553</td>\n",
       "      <td>9.0</td>\n",
       "    </tr>\n",
       "    <tr>\n",
       "      <th>286</th>\n",
       "      <td>Bruce Levell, leader of the \"National Diversity Coalition for trump\" just called it the \"China Virus\" on #AMJoy and was immediately called out for his hypocrisy.\\n\\nHe was also trying to make the laughable case that trump did a great job on COVID-19.</td>\n",
       "      <td>0.397214</td>\n",
       "      <td>0.006256</td>\n",
       "      <td>0.022765</td>\n",
       "      <td>0.463276</td>\n",
       "      <td>0.007055</td>\n",
       "      <td>0.027414</td>\n",
       "      <td>9.0</td>\n",
       "    </tr>\n",
       "    <tr>\n",
       "      <th>277</th>\n",
       "      <td>Children seem more likely to be shot &amp; killed in Democrat-run cities than they are to die from the China Virus.\\n\\nGet kids off the street. Re-open our schools. It's the safe thing to do.</td>\n",
       "      <td>0.397729</td>\n",
       "      <td>0.023077</td>\n",
       "      <td>0.097129</td>\n",
       "      <td>0.182317</td>\n",
       "      <td>0.448271</td>\n",
       "      <td>0.280349</td>\n",
       "      <td>9.0</td>\n",
       "    </tr>\n",
       "    <tr>\n",
       "      <th>279</th>\n",
       "      <td>Is tomorrow going to be a dog and pony show and Biden is going to be installed with nothing ever changing in this fraudulent election nonsense?\\n\\nMy blood pressure is going up.</td>\n",
       "      <td>0.399150</td>\n",
       "      <td>0.016642</td>\n",
       "      <td>0.094866</td>\n",
       "      <td>0.371660</td>\n",
       "      <td>0.093164</td>\n",
       "      <td>0.024399</td>\n",
       "      <td>9.0</td>\n",
       "    </tr>\n",
       "  </tbody>\n",
       "</table>\n",
       "</div>"
      ],
      "text/plain": [
       "                                                                                                                                                                                                                                                                                                                                                                                                                                                                                                Anti_Racism_post  \\\n",
       "274                                                                                                                                                                                                                                    Watching Governor Cuomo is a case study in chutzpah.Cuomo’s policies led to the unnecessary death of thousands.He presided over 20% of all the American deaths from the Chinese Virus.His answer:attack Trump. Of course anti-Trump media applauds Cuomo while he lies.     \n",
       "289                                                                                                                                                                                                                                                                                                                    Replying to @realDonaldTrump The #TrumpTapes will go down in infamy, showing a weak and ineffective 'president' trying to overturn the will of 81 million people who voted against him.     \n",
       "288                                                                                                                                                                                                                                                                                                 So, Trump is a deadlier virus than COVID? Quote TweetRep. Matt Gaetz@RepMattGaetz · Oct 5, 2020President Trump won't have to recover from COVID. \\n\\nCOVID will have to recover from President Trump. #MAGA    \n",
       "287                                                                                                                                                                                                                      Trump is lying a lot in his speech that's billed as a White House event but is just a campaign rally. One example: He claimed that the coronavirus is disappearing as he is still infected with the virus. Trump is lying about: Biden, Democrats, COVID, his achievements, and more.     \n",
       "285                                                                                                                                                                                                                   Some liberals are so spooked that they think Trump denying the virus, telling everyone we’ve turned the corner, mocked mask wearing, and then getting the virus after failing to protect the country could all somehow be good for his election. The world is crazy. It’s not that crazy     \n",
       "295                                                                                                                                                                                                                                                                                                                                                                                                                                                     Gets under my skin when they call it the China virus.      \n",
       "290  #Bobwoodward took down a lying, immoral, unfit President with tapes. Looks like he’s going to do it again. \\n\\nON TAPE— on FEBRUARY 7– BEFORE the first COVID case in the USA. #TrumpKnew it was DEADLY, and INTENTIONALLY lied about it to us and did NOTHING. 200,000 DEAD. Quote TweetCNN Politics@CNNPolitics · Sep 9, 2020In new tapes, President Trump admits to Bob Woodward he concealed critical details he knew about the coronavirus. \"I wanted to always play it down.\" https://cnn.it/3bFjswx    \n",
       "284                                                                                                                                                                                                                    Trump has had the Covid-19 relief bill for days. He failed to sign it as of last night, allowing unemployment benefits to expire for millions of Americans. \\n\\nHis negligence and denials allowed the virus to spread. Now his incompetence and ego are worsening the economic crisis.     \n",
       "294                                                                                                                            Fake news! Not Chinese language!! Not even Chinese police uniform!!! This is sheer propaganda against China, trying to sabotage relations between China & muslim countryies. There’s no ‘East Turkistan’ in China. Only terrorists & their sympathizers call Xinjiang ‘East Turkistan’. https://twitter.com/AnilaKhan1995/status/1079867200633221120… This Tweet is unavailable.    \n",
       "281                                                                                                                                                                                                                   When President-elect Biden is sworn in, we’ll have to ask the question “Did Emily Murphy’s negligence result in anyone dying?” And if the answer is yes, Emily should spend the rest of her life in prison. This is not a game. Emily has no right to stall. Shame on @GSAEmily forever.     \n",
       "276                                                                                                                                                         Replying to @realDonaldTrump and @seanhannity \"You knew damn well I was a snake before you took me in\" \\n\\nThey knew \\n\\nLindsey Graham knew.\\nMarco Rubio knew.\\nTed Cruz knew.\\nRand Paul knew.\\nNikki Haley knew.\\nKellyanne Conway knew.\\nMike Pompeo knew.\\nRick Perry knew.\\nSusan Collins knew.\\n\\nThey all knew. 1:4717.4M viewsFrom act.tv    \n",
       "292                                                                                                                                                                                                                                                                                                                                                                                                                                            It's not the China Virus.\\nIt's the #TrumpVirus.\\n\\nPASS IT ON.     \n",
       "278                                                                                                                                                                                                                     Trump & Co can call it whatever they want. “Chinese Virus”, “Kung Fu Pandemic”...whatever dumb name they want. It won’t solve the problem. It won’t accelerate finding a cure. Fact is, viruses don’t discriminate based on ethnicity. We are global citizens. We’re in this together.     \n",
       "293                                                                                                                                                                                                                                                                                                                                                                                                                                                         #BidenTheRapist is trending. What do you think? RT     \n",
       "283                                                                                                                                                                                                               Let me get something straight\\n\\nIt’s racist to say “Chinese virus”, despite the fact that it originated in China, and but we’re perfectly happy naming Ebola, named after a river near the Congo, and the Spanish flu? \\n\\nSounds like Chinese state propaganda & nonsensical wokeism to me     \n",
       "280                                                                                                                                                                                                                                                        President Trump was lying to the American people about COVID-19 and downplaying the virus.\\n\\nIf there’s a five-alarm fire in the house, you don’t keep quiet. You have to let the people inside know the house is burning or they’re going to die.     \n",
       "282                                                                                                                                                                                                                                                                                                                                                                  \"groveling\" when he totally changed a 16 year old story that he had written in order to make me look bad. Just more very dishonest media!     \n",
       "291                                                                                                                                                                                                                                                                                                                                                                                                                              And this is why #USA is the state as it is now  #TrumpVirus #TrumpTheDisaster     \n",
       "275                                                                                                                                                                                                                                                                                                                                                                                                                                                    Is referring to COVID-19 as the \"Chinese Virus\" racist?     \n",
       "286                                                                                                                                                                                                                                                 Bruce Levell, leader of the \"National Diversity Coalition for trump\" just called it the \"China Virus\" on #AMJoy and was immediately called out for his hypocrisy.\\n\\nHe was also trying to make the laughable case that trump did a great job on COVID-19.     \n",
       "277                                                                                                                                                                                                                                                                                                                Children seem more likely to be shot & killed in Democrat-run cities than they are to die from the China Virus.\\n\\nGet kids off the street. Re-open our schools. It's the safe thing to do.     \n",
       "279                                                                                                                                                                                                                                                                                                                          Is tomorrow going to be a dog and pony show and Biden is going to be installed with nothing ever changing in this fraudulent election nonsense?\\n\\nMy blood pressure is going up.     \n",
       "\n",
       "     Toxicity  Severe_Toxicity  Profanity    Insult    Threat  \\\n",
       "274  0.360951         0.009117   0.037904  0.338892  0.040984   \n",
       "289  0.360951         0.006104   0.025771  0.384060  0.010318   \n",
       "288  0.360951         0.011902   0.024541  0.388520  0.014739   \n",
       "287  0.360951         0.007286   0.060951  0.342037  0.008764   \n",
       "285  0.360951         0.008850   0.112304  0.348603  0.008919   \n",
       "295  0.360951         0.018385   0.129038  0.188530  0.024753   \n",
       "290  0.368677         0.009918   0.024473  0.417675  0.009515   \n",
       "284  0.370732         0.005150   0.020169  0.402434  0.007457   \n",
       "294  0.374586         0.018320   0.084844  0.232375  0.034768   \n",
       "281  0.375766         0.010910   0.064458  0.345482  0.053008   \n",
       "276  0.377512         0.021806   0.394096  0.338892  0.011379   \n",
       "292  0.377512         0.020903   0.046672  0.341012  0.035113   \n",
       "278  0.377959         0.015480   0.207002  0.392980  0.021300   \n",
       "293  0.386017         0.024303   0.272749  0.269578  0.119229   \n",
       "283  0.392316         0.021806   0.174273  0.289975  0.013166   \n",
       "280  0.394416         0.023077   0.123750  0.247670  0.416234   \n",
       "282  0.394416         0.012436   0.119113  0.367985  0.012441   \n",
       "291  0.394416         0.023077   0.122207  0.415303  0.032350   \n",
       "275  0.396442         0.020128   0.122868  0.298550  0.011457   \n",
       "286  0.397214         0.006256   0.022765  0.463276  0.007055   \n",
       "277  0.397729         0.023077   0.097129  0.182317  0.448271   \n",
       "279  0.399150         0.016642   0.094866  0.371660  0.093164   \n",
       "\n",
       "     Identity_Attack  Toxicity_cat  \n",
       "274         0.066587           9.0  \n",
       "289         0.017867           9.0  \n",
       "288         0.035847           9.0  \n",
       "287         0.043839           9.0  \n",
       "285         0.080047           9.0  \n",
       "295         0.381799           9.0  \n",
       "290         0.012541           9.0  \n",
       "284         0.018269           9.0  \n",
       "294         0.381799           9.0  \n",
       "281         0.025404           9.0  \n",
       "276         0.023997           9.0  \n",
       "292         0.271716           9.0  \n",
       "278         0.202859           9.0  \n",
       "293         0.112800           9.0  \n",
       "283         0.381799           9.0  \n",
       "280         0.062495           9.0  \n",
       "282         0.036621           9.0  \n",
       "291         0.169933           9.0  \n",
       "275         0.402553           9.0  \n",
       "286         0.027414           9.0  \n",
       "277         0.280349           9.0  \n",
       "279         0.024399           9.0  "
      ]
     },
     "execution_count": 27,
     "metadata": {},
     "output_type": "execute_result"
    }
   ],
   "source": [
    "# df1 = stratified_sample1[(stratified_sample1['Toxicity'] >= 0.2) & (stratified_sample1['Toxicity'] <= 0.25)].sort_values(by='Toxicity')\n",
    "# df1 = stratified_sample1[(stratified_sample1['Toxicity'] <= .25)].sort_values(by='Toxicity')\n",
    "# df1 = stratified_sample1[(stratified_sample1['Toxicity_cat'] >= 0) & (stratified_sample1['Toxicity_cat'] <= 4)].sort_values(by='Toxicity')\n",
    "df1 = stratified_sample1[(stratified_sample1['Toxicity_cat'] == 9)].sort_values(by='Toxicity')\n",
    "\n",
    "print(df1.shape)\n",
    "print(df1['Severe_Toxicity'].mean())\n",
    "\n",
    "df1.head(400)"
   ]
  },
  {
   "cell_type": "code",
   "execution_count": 28,
   "metadata": {},
   "outputs": [],
   "source": [
    "sample1_avg_severe_toxicity = stratified_sample1['Severe_Toxicity'].mean()\n",
    "sample1_avg_toxicity = stratified_sample1['Toxicity'].mean()"
   ]
  },
  {
   "cell_type": "code",
   "execution_count": 29,
   "metadata": {},
   "outputs": [
    {
     "name": "stdout",
     "output_type": "stream",
     "text": [
      "12.070468236875652\n",
      "2.9899752213170885\n"
     ]
    }
   ],
   "source": [
    "print(abs(avg_severe_toxicity - sample1_avg_severe_toxicity) / avg_severe_toxicity * 100)\n",
    "print(abs(avg_toxicity - sample1_avg_toxicity) / avg_toxicity * 100)"
   ]
  },
  {
   "cell_type": "markdown",
   "metadata": {},
   "source": [
    "STRATIFIED_SAMPLE 2"
   ]
  },
  {
   "cell_type": "code",
   "execution_count": 30,
   "metadata": {},
   "outputs": [
    {
     "name": "stderr",
     "output_type": "stream",
     "text": [
      "C:\\Users\\saskh\\AppData\\Local\\Temp\\ipykernel_16892\\3437387389.py:2: DeprecationWarning: DataFrameGroupBy.apply operated on the grouping columns. This behavior is deprecated, and in a future version of pandas the grouping columns will be excluded from the operation. Either pass `include_groups=False` to exclude the groupings or explicitly select the grouping columns after groupby to silence this warning.\n",
      "  stratified_sample2 = per_score.groupby('Toxicity_cat').apply(lambda x: x.sample(int(len(x) * sample_proportion), random_state=10)).reset_index(drop=True)\n"
     ]
    }
   ],
   "source": [
    "sample_proportion = 360 / len(per_score)\n",
    "stratified_sample2 = per_score.groupby('Toxicity_cat').apply(lambda x: x.sample(int(len(x) * sample_proportion), random_state=10)).reset_index(drop=True)"
   ]
  },
  {
   "cell_type": "code",
   "execution_count": 31,
   "metadata": {},
   "outputs": [
    {
     "name": "stdout",
     "output_type": "stream",
     "text": [
      "(348, 8)\n"
     ]
    },
    {
     "data": {
      "text/plain": [
       "Toxicity_cat\n",
       "0.0     41\n",
       "1.0     40\n",
       "2.0     52\n",
       "3.0     28\n",
       "4.0     28\n",
       "5.0     25\n",
       "6.0     23\n",
       "7.0     20\n",
       "8.0     17\n",
       "9.0     22\n",
       "10.0    13\n",
       "11.0     9\n",
       "12.0     5\n",
       "13.0     4\n",
       "14.0     4\n",
       "15.0     2\n",
       "16.0     4\n",
       "17.0     4\n",
       "18.0     2\n",
       "19.0     2\n",
       "20.0     1\n",
       "21.0     1\n",
       "22.0     1\n",
       "Name: count, dtype: int64"
      ]
     },
     "execution_count": 31,
     "metadata": {},
     "output_type": "execute_result"
    }
   ],
   "source": [
    "print(stratified_sample2.shape)\n",
    "stratified_sample2['Toxicity_cat'].value_counts(sort = False)"
   ]
  },
  {
   "cell_type": "code",
   "execution_count": null,
   "metadata": {},
   "outputs": [],
   "source": [
    "# df2 = stratified_sample2[(stratified_sample2['Toxicity'] >= 0.2) & (stratified_sample2['Toxicity'] <= 0.25)].sort_values(by='Toxicity')\n",
    "# df2 = stratified_sample2[(stratified_sample2['Toxicity'] <= .25)].sort_values(by='Toxicity')\n",
    "# df2 = stratified_sample2[(stratified_sample2['Toxicity_cat'] >= 12) & (stratified_sample2['Toxicity_cat'] <= 15)].sort_values(by='Toxicity')\n",
    "df2 = stratified_sample2[(stratified_sample2['Toxicity_cat'] >= 0)].sort_values(by='Toxicity')\n",
    "\n",
    "print(df2.shape)\n",
    "print(df2['Severe_Toxicity'].mean())\n",
    "\n",
    "df2.head(400)"
   ]
  },
  {
   "cell_type": "code",
   "execution_count": 33,
   "metadata": {},
   "outputs": [],
   "source": [
    "sample2_avg_severe_toxicity = stratified_sample2['Severe_Toxicity'].mean()\n",
    "sample2_avg_toxicity = stratified_sample2['Toxicity'].mean()"
   ]
  },
  {
   "cell_type": "code",
   "execution_count": 34,
   "metadata": {},
   "outputs": [
    {
     "name": "stdout",
     "output_type": "stream",
     "text": [
      "12.89504031677747\n",
      "3.5738613806483173\n"
     ]
    }
   ],
   "source": [
    "print(abs(avg_severe_toxicity - sample2_avg_severe_toxicity) / avg_severe_toxicity * 100)\n",
    "print(abs(avg_toxicity - sample2_avg_toxicity) / avg_toxicity * 100)"
   ]
  },
  {
   "cell_type": "code",
   "execution_count": 35,
   "metadata": {},
   "outputs": [
    {
     "data": {
      "text/plain": [
       "Text(0, 0.5, 'Frequency')"
      ]
     },
     "execution_count": 35,
     "metadata": {},
     "output_type": "execute_result"
    },
    {
     "data": {
      "image/png": "[encoded data removed]",
      "text/plain": [
       "<Figure size 1500x600 with 1 Axes>"
      ]
     },
     "metadata": {},
     "output_type": "display_data"
    }
   ],
   "source": [
    "plt.figure(figsize=(15, 6))\n",
    "sns.histplot(data = stratified_sample2, x = 'Toxicity', kde=True)\n",
    "plt.xticks(np.arange(0, 1, 0.05))\n",
    "plt.xlabel('Toxicity')\n",
    "plt.ylabel('Frequency')"
   ]
  },
  {
   "cell_type": "code",
   "execution_count": 36,
   "metadata": {},
   "outputs": [],
   "source": [
    "sample2_toxicity = stratified_sample1['Toxicity'].tolist()"
   ]
  },
  {
   "cell_type": "code",
   "execution_count": 37,
   "metadata": {},
   "outputs": [
    {
     "name": "stdout",
     "output_type": "stream",
     "text": [
      "[0.01859777, 0.027677942, 0.030506283, 0.013822667, 0.015079274, 0.018974753, 0.02308189, 0.034748793, 0.029445656, 0.030859824, 0.037105743, 0.018974753, 0.03192045, 0.038519915, 0.024260364, 0.025792383, 0.025320992, 0.028856417, 0.010555492, 0.026263772, 0.01646154, 0.039935954, 0.03192045, 0.028974265, 0.031684756, 0.036634352, 0.019854378, 0.026970858, 0.024849601, 0.011560776, 0.022964042, 0.02035702, 0.008293601, 0.022374803, 0.029917045, 0.030859824, 0.016587202, 0.03781283, 0.019603057, 0.034277402, 0.032627538, 0.05304765, 0.079250954, 0.041915078, 0.054284602, 0.045625936, 0.045131154, 0.075294, 0.045625936, 0.056016337, 0.04735767, 0.04067813, 0.07687678, 0.04315203, 0.044141594, 0.04785245, 0.04216247, 0.075294, 0.06104896, 0.05651112, 0.07608539, 0.044636376, 0.040925518, 0.077668175, 0.057005897, 0.040183347, 0.07845957, 0.04686289, 0.056758508, 0.058490243, 0.046120718, 0.07845957, 0.07608539, 0.063423134, 0.04315203, 0.06500591, 0.04686289, 0.04686289, 0.058737632, 0.050078966, 0.048594624, 0.1100022, 0.11652588, 0.11316007, 0.09741997, 0.11652588, 0.09611836, 0.10089093, 0.11912931, 0.11067997, 0.104795754, 0.11129999, 0.11109332, 0.10913446, 0.09112182, 0.08083374, 0.11067997, 0.09112182, 0.08479069, 0.09958932, 0.10045706, 0.102626406, 0.1013248, 0.10826672, 0.10089093, 0.09525062, 0.10566349, 0.09033044, 0.11171334, 0.11088664, 0.11067997, 0.104361884, 0.11078331, 0.09655223, 0.08083374, 0.08953904, 0.11212669, 0.11450345, 0.102626406, 0.08953904, 0.09915545, 0.112850055, 0.08953904, 0.09741997, 0.08795626, 0.112333365, 0.10956833, 0.09033044, 0.11739369, 0.1104733, 0.1140901, 0.0926474, 0.103928015, 0.1269396, 0.147767, 0.15435068, 0.147767, 0.15600902, 0.15711457, 0.15103401, 0.15490346, 0.15822013, 0.15048122, 0.1373533, 0.14950264, 0.15711457, 0.1587729, 0.15158679, 0.15048122, 0.1587729, 0.13214645, 0.13908891, 0.15711457, 0.13041082, 0.13561769, 0.15324512, 0.15213956, 0.1587729, 0.15545623, 0.1460314, 0.13041082, 0.16245349, 0.17631748, 0.1893425, 0.1798404, 0.19870108, 0.19599396, 0.17198499, 0.19029272, 0.19939905, 0.18079062, 0.1693855, 0.19124292, 0.19504376, 0.17285149, 0.18744208, 0.17545098, 0.18744208, 0.16591948, 0.1893425, 0.19599396, 0.165053, 0.16765249, 0.18649188, 0.1991664, 0.19986437, 0.19124292, 0.17025198, 0.1641865, 0.22712809, 0.20056234, 0.21508642, 0.20335422, 0.2191003, 0.23271075, 0.23415339, 0.23343207, 0.20056234, 0.21776234, 0.23415339, 0.2359567, 0.23451406, 0.23812068, 0.2043827, 0.23667802, 0.23379272, 0.20102765, 0.2312681, 0.20149297, 0.2396185, 0.20126031, 0.2191003, 0.20572066, 0.23198941, 0.2786282, 0.2540519, 0.24282593, 0.2763787, 0.24442963, 0.27525392, 0.24603334, 0.27525392, 0.26104406, 0.25462922, 0.2786282, 0.24442963, 0.25462922, 0.26859093, 0.27975297, 0.2553839, 0.25915736, 0.24603334, 0.27975297, 0.27047762, 0.25462922, 0.26293078, 0.2786282, 0.28425202, 0.2820025, 0.31825066, 0.28857216, 0.2854971, 0.29405528, 0.31132057, 0.30716252, 0.30527395, 0.3127066, 0.295883, 0.30716252, 0.2854971, 0.30993456, 0.2855005, 0.2922276, 0.2853768, 0.30539915, 0.30464804, 0.30716252, 0.34328604, 0.3389984, 0.3367073, 0.3389984, 0.3389984, 0.3389984, 0.3245134, 0.32128486, 0.3389984, 0.3286776, 0.33836752, 0.32764325, 0.3245134, 0.32557452, 0.3234372, 0.32074678, 0.3389984, 0.36095104, 0.39644176, 0.37751234, 0.3977292, 0.37795907, 0.39915034, 0.39441586, 0.37576625, 0.39441586, 0.39231625, 0.37073207, 0.36095104, 0.3972142, 0.36095104, 0.36095104, 0.36095104, 0.36867723, 0.39441586, 0.37751234, 0.38601747, 0.37458646, 0.36095104, 0.4269174, 0.4269174, 0.4014846, 0.4014846, 0.43230394, 0.42349213, 0.42129645, 0.4274071, 0.4398409, 0.4269174, 0.4269174, 0.41445592, 0.42349213, 0.47772613, 0.47473195, 0.47323486, 0.47900817, 0.45549932, 0.47622904, 0.47173777, 0.45751464, 0.44002727, 0.4977744, 0.51980776, 0.51980776, 0.4850187, 0.51869136, 0.5566829, 0.53579444, 0.53579444, 0.55739564, 0.57271194, 0.5972042, 0.5972042, 0.5972042, 0.63782936, 0.62702215, 0.6544696, 0.6544696, 0.6544696, 0.65996873, 0.6863638, 0.68408644, 0.6827122, 0.6863638, 0.743089, 0.74954444, 0.7675452, 0.78207105, 0.83334327, 0.85850734, 0.9061063]\n"
     ]
    }
   ],
   "source": [
    "print(sample2_toxicity)"
   ]
  },
  {
   "cell_type": "markdown",
   "metadata": {},
   "source": [
    "STRATIFIED_SAMPLE 3"
   ]
  },
  {
   "cell_type": "code",
   "execution_count": 38,
   "metadata": {},
   "outputs": [
    {
     "name": "stderr",
     "output_type": "stream",
     "text": [
      "C:\\Users\\saskh\\AppData\\Local\\Temp\\ipykernel_16892\\1178759779.py:2: DeprecationWarning: DataFrameGroupBy.apply operated on the grouping columns. This behavior is deprecated, and in a future version of pandas the grouping columns will be excluded from the operation. Either pass `include_groups=False` to exclude the groupings or explicitly select the grouping columns after groupby to silence this warning.\n",
      "  stratified_sample3 = per_score.groupby('Toxicity_cat').apply(lambda x: x.sample(int(len(x) * sample_proportion), random_state=100)).reset_index(drop=True)\n"
     ]
    }
   ],
   "source": [
    "sample_proportion = 360 / len(per_score)\n",
    "stratified_sample3 = per_score.groupby('Toxicity_cat').apply(lambda x: x.sample(int(len(x) * sample_proportion), random_state=100)).reset_index(drop=True)"
   ]
  },
  {
   "cell_type": "code",
   "execution_count": null,
   "metadata": {},
   "outputs": [],
   "source": [
    "# df2 = stratified_sample2[(stratified_sample2['Toxicity'] >= 0.2) & (stratified_sample2['Toxicity'] <= 0.25)].sort_values(by='Toxicity')\n",
    "# df2 = stratified_sample2[(stratified_sample2['Toxicity'] <= .25)].sort_values(by='Toxicity')\n",
    "# df3 = stratified_sample3[(stratified_sample3['Toxicity_cat'] >= ) & (stratified_sample3['Toxicity_cat'] <= 15)].sort_values(by='Toxicity')\n",
    "df3 = stratified_sample3[(stratified_sample3['Toxicity_cat'] == 9)].sort_values(by='Toxicity')\n",
    "\n",
    "print(df3.shape)\n",
    "print(df3['Severe_Toxicity'].mean())\n",
    "\n",
    "df3.head(400)"
   ]
  },
  {
   "cell_type": "markdown",
   "metadata": {},
   "source": [
    "Checking no. of comments above the threshold value"
   ]
  },
  {
   "cell_type": "code",
   "execution_count": 40,
   "metadata": {},
   "outputs": [
    {
     "data": {
      "text/plain": [
       "809"
      ]
     },
     "execution_count": 40,
     "metadata": {},
     "output_type": "execute_result"
    }
   ],
   "source": [
    "(per_score['Toxicity'] >= 0.36).sum()"
   ]
  },
  {
   "cell_type": "code",
   "execution_count": 41,
   "metadata": {},
   "outputs": [],
   "source": [
    "filtered_df = per_score[per_score['Toxicity'] >= 0.36]"
   ]
  },
  {
   "cell_type": "code",
   "execution_count": 42,
   "metadata": {},
   "outputs": [
    {
     "data": {
      "text/html": [
       "<div>\n",
       "<style scoped>\n",
       "    .dataframe tbody tr th:only-of-type {\n",
       "        vertical-align: middle;\n",
       "    }\n",
       "\n",
       "    .dataframe tbody tr th {\n",
       "        vertical-align: top;\n",
       "    }\n",
       "\n",
       "    .dataframe thead th {\n",
       "        text-align: right;\n",
       "    }\n",
       "</style>\n",
       "<table border=\"1\" class=\"dataframe\">\n",
       "  <thead>\n",
       "    <tr style=\"text-align: right;\">\n",
       "      <th></th>\n",
       "      <th>Anti_Racism_post</th>\n",
       "      <th>Toxicity</th>\n",
       "      <th>Severe_Toxicity</th>\n",
       "      <th>Profanity</th>\n",
       "      <th>Insult</th>\n",
       "      <th>Threat</th>\n",
       "      <th>Identity_Attack</th>\n",
       "      <th>Toxicity_cat</th>\n",
       "    </tr>\n",
       "  </thead>\n",
       "  <tbody>\n",
       "    <tr>\n",
       "      <th>875</th>\n",
       "      <td>Let me get this straight:\\n\\nChina, the country that locks Uighur Muslims in concentration camps, has the nerve to call the United States “racist” for labeling COVID-19 the Chinese Virus?\\n\\nAnd the mainstream media is parroting their talking points\\n\\nHow does that make ANY sense?\\n\\n</td>\n",
       "      <td>0.360437</td>\n",
       "      <td>0.016125</td>\n",
       "      <td>0.099306</td>\n",
       "      <td>0.195005</td>\n",
       "      <td>0.013476</td>\n",
       "      <td>0.378048</td>\n",
       "      <td>9.0</td>\n",
       "    </tr>\n",
       "    <tr>\n",
       "      <th>1792</th>\n",
       "      <td>.@LucyFlores tells me she doesn’t consider what Biden did to be “sexual harassment” — but also says to Google “creepy Uncle Joe” and that will show you she’s talking about @KasieDC</td>\n",
       "      <td>0.360437</td>\n",
       "      <td>0.011673</td>\n",
       "      <td>0.124631</td>\n",
       "      <td>0.232375</td>\n",
       "      <td>0.012959</td>\n",
       "      <td>0.035332</td>\n",
       "      <td>9.0</td>\n",
       "    </tr>\n",
       "    <tr>\n",
       "      <th>2432</th>\n",
       "      <td>What an absolute farce this TV debate will be:\\n\\n No Brexit voice \\n Two politicians wanting to tie us to EU rules\\n Likely to be on pro-EU BBC\\n Panel of business leaders (how about a panel of Brexiteers?)\\n\\nShambles!</td>\n",
       "      <td>0.360437</td>\n",
       "      <td>0.011978</td>\n",
       "      <td>0.156360</td>\n",
       "      <td>0.269578</td>\n",
       "      <td>0.012907</td>\n",
       "      <td>0.088319</td>\n",
       "      <td>9.0</td>\n",
       "    </tr>\n",
       "    <tr>\n",
       "      <th>771</th>\n",
       "      <td>Swiss cheese - not racist\\n\\nItalian sausage - not racist\\n\\nBrazilian wax - not racist\\n\\nBelgian waffle - not racist\\n\\nIrish coffee - not racist\\n\\nSpanish flu - not racist \\n\\nChinese virus - NOT RACIST</td>\n",
       "      <td>0.360437</td>\n",
       "      <td>0.023077</td>\n",
       "      <td>0.165899</td>\n",
       "      <td>0.153432</td>\n",
       "      <td>0.011379</td>\n",
       "      <td>0.321843</td>\n",
       "      <td>9.0</td>\n",
       "    </tr>\n",
       "    <tr>\n",
       "      <th>3366</th>\n",
       "      <td>I saved at least 8 Republican Senators, including Mitch, from losing in the last Rigged (for President) Election. Now they (almost all) sit back and watch me fight against a crooked and vicious foe, the Radical Left Democrats. I will NEVER FORGET! This claim about election fraud is disputed</td>\n",
       "      <td>0.360437</td>\n",
       "      <td>0.007744</td>\n",
       "      <td>0.043917</td>\n",
       "      <td>0.378466</td>\n",
       "      <td>0.009075</td>\n",
       "      <td>0.059766</td>\n",
       "      <td>9.0</td>\n",
       "    </tr>\n",
       "  </tbody>\n",
       "</table>\n",
       "</div>"
      ],
      "text/plain": [
       "                                                                                                                                                                                                                                                                                          Anti_Racism_post  \\\n",
       "875       Let me get this straight:\\n\\nChina, the country that locks Uighur Muslims in concentration camps, has the nerve to call the United States “racist” for labeling COVID-19 the Chinese Virus?\\n\\nAnd the mainstream media is parroting their talking points\\n\\nHow does that make ANY sense?\\n\\n     \n",
       "1792                                                                                                                .@LucyFlores tells me she doesn’t consider what Biden did to be “sexual harassment” — but also says to Google “creepy Uncle Joe” and that will show you she’s talking about @KasieDC     \n",
       "2432                                                                        What an absolute farce this TV debate will be:\\n\\n No Brexit voice \\n Two politicians wanting to tie us to EU rules\\n Likely to be on pro-EU BBC\\n Panel of business leaders (how about a panel of Brexiteers?)\\n\\nShambles!     \n",
       "771                                                                                       Swiss cheese - not racist\\n\\nItalian sausage - not racist\\n\\nBrazilian wax - not racist\\n\\nBelgian waffle - not racist\\n\\nIrish coffee - not racist\\n\\nSpanish flu - not racist \\n\\nChinese virus - NOT RACIST     \n",
       "3366  I saved at least 8 Republican Senators, including Mitch, from losing in the last Rigged (for President) Election. Now they (almost all) sit back and watch me fight against a crooked and vicious foe, the Radical Left Democrats. I will NEVER FORGET! This claim about election fraud is disputed    \n",
       "\n",
       "      Toxicity  Severe_Toxicity  Profanity    Insult    Threat  \\\n",
       "875   0.360437         0.016125   0.099306  0.195005  0.013476   \n",
       "1792  0.360437         0.011673   0.124631  0.232375  0.012959   \n",
       "2432  0.360437         0.011978   0.156360  0.269578  0.012907   \n",
       "771   0.360437         0.023077   0.165899  0.153432  0.011379   \n",
       "3366  0.360437         0.007744   0.043917  0.378466  0.009075   \n",
       "\n",
       "      Identity_Attack  Toxicity_cat  \n",
       "875          0.378048           9.0  \n",
       "1792         0.035332           9.0  \n",
       "2432         0.088319           9.0  \n",
       "771          0.321843           9.0  \n",
       "3366         0.059766           9.0  "
      ]
     },
     "execution_count": 42,
     "metadata": {},
     "output_type": "execute_result"
    }
   ],
   "source": [
    "filtered_df.head()"
   ]
  },
  {
   "cell_type": "code",
   "execution_count": 43,
   "metadata": {},
   "outputs": [
    {
     "data": {
      "text/plain": [
       "Text(0, 0.5, 'Frequency')"
      ]
     },
     "execution_count": 43,
     "metadata": {},
     "output_type": "execute_result"
    },
    {
     "data": {
      "image/png": "[encoded data removed]",
      "text/plain": [
       "<Figure size 1000x600 with 1 Axes>"
      ]
     },
     "metadata": {},
     "output_type": "display_data"
    }
   ],
   "source": [
    "plt.figure(figsize=(10, 6))\n",
    "sns.histplot(data = filtered_df, x = 'Toxicity', kde=True)\n",
    "plt.xticks(np.arange(0.25, 1, 0.05))\n",
    "plt.title('Toxicity distribution of final 809 initial posts')\n",
    "plt.xlabel('Toxicity')\n",
    "plt.ylabel('Frequency')"
   ]
  },
  {
   "cell_type": "code",
   "execution_count": 44,
   "metadata": {},
   "outputs": [],
   "source": [
    "filtered_df1 = filtered_df[::2]\n",
    "filtered_df2 = filtered_df[1::2]"
   ]
  },
  {
   "cell_type": "code",
   "execution_count": 45,
   "metadata": {},
   "outputs": [],
   "source": [
    "filtered_df1.to_csv('filtered_df1.csv', index=False)\n",
    "filtered_df2.to_csv('filtered_df2.csv', index=False)"
   ]
  },
  {
   "cell_type": "markdown",
   "metadata": {},
   "source": [
    "Analysis"
   ]
  },
  {
   "cell_type": "code",
   "execution_count": 46,
   "metadata": {},
   "outputs": [],
   "source": [
    "filtered_df1_ant = pd.read_csv('.\\\\filtered_df1_ant.csv')"
   ]
  },
  {
   "cell_type": "code",
   "execution_count": 47,
   "metadata": {},
   "outputs": [
    {
     "name": "stdout",
     "output_type": "stream",
     "text": [
      "<class 'pandas.core.frame.DataFrame'>\n",
      "RangeIndex: 405 entries, 0 to 404\n",
      "Data columns (total 11 columns):\n",
      " #   Column                       Non-Null Count  Dtype  \n",
      "---  ------                       --------------  -----  \n",
      " 0   Anti_Racism_post             405 non-null    object \n",
      " 1   Toxicity                     405 non-null    float64\n",
      " 2   Severe_Toxicity              405 non-null    float64\n",
      " 3   Profanity                    405 non-null    float64\n",
      " 4   Insult                       405 non-null    float64\n",
      " 5   Threat                       405 non-null    float64\n",
      " 6   Identity_Attack              405 non-null    float64\n",
      " 7   Toxicity_cat                 405 non-null    int64  \n",
      " 8   Binary_classfication(Atif)   405 non-null    int64  \n",
      " 9   Binary_classfication(Abdul)  405 non-null    int64  \n",
      " 10  final                        402 non-null    float64\n",
      "dtypes: float64(7), int64(3), object(1)\n",
      "memory usage: 34.9+ KB\n"
     ]
    }
   ],
   "source": [
    "filtered_df1_ant.info()"
   ]
  },
  {
   "cell_type": "code",
   "execution_count": 48,
   "metadata": {},
   "outputs": [],
   "source": [
    "difference1 = filtered_df1_ant[abs(filtered_df1_ant['Binary_classfication(Atif)'] - filtered_df1_ant['Binary_classfication(Abdul)']) == 1]"
   ]
  },
  {
   "cell_type": "code",
   "execution_count": null,
   "metadata": {},
   "outputs": [],
   "source": [
    "print(difference1.shape)\n",
    "difference1.head(100)"
   ]
  },
  {
   "cell_type": "code",
   "execution_count": 50,
   "metadata": {},
   "outputs": [
    {
     "name": "stdout",
     "output_type": "stream",
     "text": [
      "<class 'pandas.core.frame.DataFrame'>\n",
      "Index: 66 entries, 1 to 360\n",
      "Data columns (total 11 columns):\n",
      " #   Column                       Non-Null Count  Dtype  \n",
      "---  ------                       --------------  -----  \n",
      " 0   Anti_Racism_post             66 non-null     object \n",
      " 1   Toxicity                     66 non-null     float64\n",
      " 2   Severe_Toxicity              66 non-null     float64\n",
      " 3   Profanity                    66 non-null     float64\n",
      " 4   Insult                       66 non-null     float64\n",
      " 5   Threat                       66 non-null     float64\n",
      " 6   Identity_Attack              66 non-null     float64\n",
      " 7   Toxicity_cat                 66 non-null     int64  \n",
      " 8   Binary_classfication(Atif)   66 non-null     int64  \n",
      " 9   Binary_classfication(Abdul)  66 non-null     int64  \n",
      " 10  final                        63 non-null     float64\n",
      "dtypes: float64(7), int64(3), object(1)\n",
      "memory usage: 6.2+ KB\n"
     ]
    }
   ],
   "source": [
    "difference1.info()"
   ]
  },
  {
   "cell_type": "code",
   "execution_count": 51,
   "metadata": {},
   "outputs": [],
   "source": [
    "difference1.to_csv('difference1.csv', index=False)"
   ]
  },
  {
   "cell_type": "code",
   "execution_count": 52,
   "metadata": {},
   "outputs": [],
   "source": [
    "filtered_df2_ant = pd.read_csv('.\\\\filtered_df2_ant.csv')"
   ]
  },
  {
   "cell_type": "code",
   "execution_count": 53,
   "metadata": {},
   "outputs": [
    {
     "name": "stdout",
     "output_type": "stream",
     "text": [
      "<class 'pandas.core.frame.DataFrame'>\n",
      "RangeIndex: 404 entries, 0 to 403\n",
      "Data columns (total 12 columns):\n",
      " #   Column                           Non-Null Count  Dtype  \n",
      "---  ------                           --------------  -----  \n",
      " 0   Anti_Racism_post                 404 non-null    object \n",
      " 1   Toxicity                         404 non-null    float64\n",
      " 2   Severe_Toxicity                  404 non-null    float64\n",
      " 3   Profanity                        404 non-null    float64\n",
      " 4   Insult                           404 non-null    float64\n",
      " 5   Threat                           404 non-null    float64\n",
      " 6   Identity_Attack                  404 non-null    float64\n",
      " 7   Toxicity_cat                     404 non-null    int64  \n",
      " 8   Binary_classfication(Shivangee)  396 non-null    float64\n",
      " 9   Binary_classfication(Ram)        396 non-null    float64\n",
      " 10  remark                           4 non-null      object \n",
      " 11  final                            393 non-null    float64\n",
      "dtypes: float64(9), int64(1), object(2)\n",
      "memory usage: 38.0+ KB\n"
     ]
    }
   ],
   "source": [
    "filtered_df2_ant.info()"
   ]
  },
  {
   "cell_type": "code",
   "execution_count": 54,
   "metadata": {},
   "outputs": [],
   "source": [
    "difference2 = filtered_df2_ant[abs(filtered_df2_ant['Binary_classfication(Shivangee)'] - filtered_df2_ant['Binary_classfication(Ram)']) == 1]"
   ]
  },
  {
   "cell_type": "code",
   "execution_count": null,
   "metadata": {},
   "outputs": [],
   "source": [
    "print(difference2.shape)\n",
    "difference2.head()"
   ]
  },
  {
   "cell_type": "code",
   "execution_count": 56,
   "metadata": {},
   "outputs": [],
   "source": [
    "difference2.to_csv('difference2.csv', index = False)"
   ]
  },
  {
   "cell_type": "markdown",
   "metadata": {},
   "source": [
    "Final labels before Sakti sir labels"
   ]
  },
  {
   "cell_type": "code",
   "execution_count": 57,
   "metadata": {},
   "outputs": [],
   "source": [
    "difference1 = pd.read_csv('./difference1.csv')"
   ]
  },
  {
   "cell_type": "code",
   "execution_count": 58,
   "metadata": {},
   "outputs": [
    {
     "ename": "KeyError",
     "evalue": "'Final'",
     "output_type": "error",
     "traceback": [
      "\u001b[1;31m---------------------------------------------------------------------------\u001b[0m",
      "\u001b[1;31mKeyError\u001b[0m                                  Traceback (most recent call last)",
      "File \u001b[1;32m~\\AppData\\Roaming\\Python\\Python312\\site-packages\\pandas\\core\\indexes\\base.py:3802\u001b[0m, in \u001b[0;36mIndex.get_loc\u001b[1;34m(self, key)\u001b[0m\n\u001b[0;32m   3801\u001b[0m \u001b[38;5;28;01mtry\u001b[39;00m:\n\u001b[1;32m-> 3802\u001b[0m     \u001b[38;5;28;01mreturn\u001b[39;00m \u001b[38;5;28;43mself\u001b[39;49m\u001b[38;5;241;43m.\u001b[39;49m\u001b[43m_engine\u001b[49m\u001b[38;5;241;43m.\u001b[39;49m\u001b[43mget_loc\u001b[49m\u001b[43m(\u001b[49m\u001b[43mcasted_key\u001b[49m\u001b[43m)\u001b[49m\n\u001b[0;32m   3803\u001b[0m \u001b[38;5;28;01mexcept\u001b[39;00m \u001b[38;5;167;01mKeyError\u001b[39;00m \u001b[38;5;28;01mas\u001b[39;00m err:\n",
      "File \u001b[1;32mindex.pyx:153\u001b[0m, in \u001b[0;36mpandas._libs.index.IndexEngine.get_loc\u001b[1;34m()\u001b[0m\n",
      "File \u001b[1;32mindex.pyx:182\u001b[0m, in \u001b[0;36mpandas._libs.index.IndexEngine.get_loc\u001b[1;34m()\u001b[0m\n",
      "File \u001b[1;32mpandas\\\\_libs\\\\hashtable_class_helper.pxi:7081\u001b[0m, in \u001b[0;36mpandas._libs.hashtable.PyObjectHashTable.get_item\u001b[1;34m()\u001b[0m\n",
      "File \u001b[1;32mpandas\\\\_libs\\\\hashtable_class_helper.pxi:7089\u001b[0m, in \u001b[0;36mpandas._libs.hashtable.PyObjectHashTable.get_item\u001b[1;34m()\u001b[0m\n",
      "\u001b[1;31mKeyError\u001b[0m: 'Final'",
      "\nThe above exception was the direct cause of the following exception:\n",
      "\u001b[1;31mKeyError\u001b[0m                                  Traceback (most recent call last)",
      "Cell \u001b[1;32mIn[58], line 7\u001b[0m\n\u001b[0;32m      4\u001b[0m filtered_df1_ant[\u001b[38;5;124m'\u001b[39m\u001b[38;5;124mdiff\u001b[39m\u001b[38;5;124m'\u001b[39m] \u001b[38;5;241m=\u001b[39m np\u001b[38;5;241m.\u001b[39mabs(filtered_df1_ant[\u001b[38;5;124m'\u001b[39m\u001b[38;5;124mBinary_classfication(Atif)\u001b[39m\u001b[38;5;124m'\u001b[39m] \u001b[38;5;241m-\u001b[39m filtered_df1_ant[\u001b[38;5;124m'\u001b[39m\u001b[38;5;124mBinary_classfication(Abdul)\u001b[39m\u001b[38;5;124m'\u001b[39m])\n\u001b[0;32m      6\u001b[0m mask \u001b[38;5;241m=\u001b[39m filtered_df1_ant[\u001b[38;5;124m'\u001b[39m\u001b[38;5;124mdiff\u001b[39m\u001b[38;5;124m'\u001b[39m] \u001b[38;5;241m==\u001b[39m \u001b[38;5;241m1\u001b[39m\n\u001b[1;32m----> 7\u001b[0m filtered_df1_ant\u001b[38;5;241m.\u001b[39mloc[mask, \u001b[38;5;124m'\u001b[39m\u001b[38;5;124mfinal\u001b[39m\u001b[38;5;124m'\u001b[39m] \u001b[38;5;241m=\u001b[39m \u001b[43mdifference1\u001b[49m\u001b[43m[\u001b[49m\u001b[38;5;124;43m'\u001b[39;49m\u001b[38;5;124;43mFinal\u001b[39;49m\u001b[38;5;124;43m'\u001b[39;49m\u001b[43m]\u001b[49m\u001b[38;5;241m.\u001b[39mvalues\n\u001b[0;32m      9\u001b[0m mask \u001b[38;5;241m=\u001b[39m filtered_df1_ant[\u001b[38;5;124m'\u001b[39m\u001b[38;5;124mdiff\u001b[39m\u001b[38;5;124m'\u001b[39m] \u001b[38;5;241m==\u001b[39m \u001b[38;5;241m0\u001b[39m\n\u001b[0;32m     10\u001b[0m filtered_df1_ant\u001b[38;5;241m.\u001b[39mloc[mask, \u001b[38;5;124m'\u001b[39m\u001b[38;5;124mfinal\u001b[39m\u001b[38;5;124m'\u001b[39m] \u001b[38;5;241m=\u001b[39m filtered_df1_ant\u001b[38;5;241m.\u001b[39mloc[mask, \u001b[38;5;124m'\u001b[39m\u001b[38;5;124mBinary_classfication(Atif)\u001b[39m\u001b[38;5;124m'\u001b[39m]\n",
      "File \u001b[1;32m~\\AppData\\Roaming\\Python\\Python312\\site-packages\\pandas\\core\\frame.py:4090\u001b[0m, in \u001b[0;36mDataFrame.__getitem__\u001b[1;34m(self, key)\u001b[0m\n\u001b[0;32m   4088\u001b[0m \u001b[38;5;28;01mif\u001b[39;00m \u001b[38;5;28mself\u001b[39m\u001b[38;5;241m.\u001b[39mcolumns\u001b[38;5;241m.\u001b[39mnlevels \u001b[38;5;241m>\u001b[39m \u001b[38;5;241m1\u001b[39m:\n\u001b[0;32m   4089\u001b[0m     \u001b[38;5;28;01mreturn\u001b[39;00m \u001b[38;5;28mself\u001b[39m\u001b[38;5;241m.\u001b[39m_getitem_multilevel(key)\n\u001b[1;32m-> 4090\u001b[0m indexer \u001b[38;5;241m=\u001b[39m \u001b[38;5;28;43mself\u001b[39;49m\u001b[38;5;241;43m.\u001b[39;49m\u001b[43mcolumns\u001b[49m\u001b[38;5;241;43m.\u001b[39;49m\u001b[43mget_loc\u001b[49m\u001b[43m(\u001b[49m\u001b[43mkey\u001b[49m\u001b[43m)\u001b[49m\n\u001b[0;32m   4091\u001b[0m \u001b[38;5;28;01mif\u001b[39;00m is_integer(indexer):\n\u001b[0;32m   4092\u001b[0m     indexer \u001b[38;5;241m=\u001b[39m [indexer]\n",
      "File \u001b[1;32m~\\AppData\\Roaming\\Python\\Python312\\site-packages\\pandas\\core\\indexes\\base.py:3809\u001b[0m, in \u001b[0;36mIndex.get_loc\u001b[1;34m(self, key)\u001b[0m\n\u001b[0;32m   3804\u001b[0m     \u001b[38;5;28;01mif\u001b[39;00m \u001b[38;5;28misinstance\u001b[39m(casted_key, \u001b[38;5;28mslice\u001b[39m) \u001b[38;5;129;01mor\u001b[39;00m (\n\u001b[0;32m   3805\u001b[0m         \u001b[38;5;28misinstance\u001b[39m(casted_key, abc\u001b[38;5;241m.\u001b[39mIterable)\n\u001b[0;32m   3806\u001b[0m         \u001b[38;5;129;01mand\u001b[39;00m \u001b[38;5;28many\u001b[39m(\u001b[38;5;28misinstance\u001b[39m(x, \u001b[38;5;28mslice\u001b[39m) \u001b[38;5;28;01mfor\u001b[39;00m x \u001b[38;5;129;01min\u001b[39;00m casted_key)\n\u001b[0;32m   3807\u001b[0m     ):\n\u001b[0;32m   3808\u001b[0m         \u001b[38;5;28;01mraise\u001b[39;00m InvalidIndexError(key)\n\u001b[1;32m-> 3809\u001b[0m     \u001b[38;5;28;01mraise\u001b[39;00m \u001b[38;5;167;01mKeyError\u001b[39;00m(key) \u001b[38;5;28;01mfrom\u001b[39;00m \u001b[38;5;21;01merr\u001b[39;00m\n\u001b[0;32m   3810\u001b[0m \u001b[38;5;28;01mexcept\u001b[39;00m \u001b[38;5;167;01mTypeError\u001b[39;00m:\n\u001b[0;32m   3811\u001b[0m     \u001b[38;5;66;03m# If we have a listlike key, _check_indexing_error will raise\u001b[39;00m\n\u001b[0;32m   3812\u001b[0m     \u001b[38;5;66;03m#  InvalidIndexError. Otherwise we fall through and re-raise\u001b[39;00m\n\u001b[0;32m   3813\u001b[0m     \u001b[38;5;66;03m#  the TypeError.\u001b[39;00m\n\u001b[0;32m   3814\u001b[0m     \u001b[38;5;28mself\u001b[39m\u001b[38;5;241m.\u001b[39m_check_indexing_error(key)\n",
      "\u001b[1;31mKeyError\u001b[0m: 'Final'"
     ]
    }
   ],
   "source": [
    "#Abdul and Atif dataset\n",
    "\n",
    "filtered_df1_ant['final'] = np.nan\n",
    "filtered_df1_ant['diff'] = np.abs(filtered_df1_ant['Binary_classfication(Atif)'] - filtered_df1_ant['Binary_classfication(Abdul)'])\n",
    "\n",
    "mask = filtered_df1_ant['diff'] == 1\n",
    "filtered_df1_ant.loc[mask, 'final'] = difference1['Final'].values\n",
    "\n",
    "mask = filtered_df1_ant['diff'] == 0\n",
    "filtered_df1_ant.loc[mask, 'final'] = filtered_df1_ant.loc[mask, 'Binary_classfication(Atif)']\n",
    "\n",
    "filtered_df1_ant = filtered_df1_ant.drop('diff', axis=1)"
   ]
  },
  {
   "cell_type": "code",
   "execution_count": null,
   "metadata": {},
   "outputs": [],
   "source": [
    "filtered_df1_ant.to_csv('filtered_df1_ant.csv', index = False)"
   ]
  },
  {
   "cell_type": "code",
   "execution_count": null,
   "metadata": {},
   "outputs": [
    {
     "name": "stdout",
     "output_type": "stream",
     "text": [
      "<class 'pandas.core.frame.DataFrame'>\n",
      "RangeIndex: 405 entries, 0 to 404\n",
      "Data columns (total 11 columns):\n",
      " #   Column                       Non-Null Count  Dtype  \n",
      "---  ------                       --------------  -----  \n",
      " 0   Anti_Racism_post             405 non-null    object \n",
      " 1   Toxicity                     405 non-null    float64\n",
      " 2   Severe_Toxicity              405 non-null    float64\n",
      " 3   Profanity                    405 non-null    float64\n",
      " 4   Insult                       405 non-null    float64\n",
      " 5   Threat                       405 non-null    float64\n",
      " 6   Identity_Attack              405 non-null    float64\n",
      " 7   Toxicity_cat                 405 non-null    int64  \n",
      " 8   Binary_classfication(Atif)   405 non-null    int64  \n",
      " 9   Binary_classfication(Abdul)  405 non-null    int64  \n",
      " 10  final                        402 non-null    float64\n",
      "dtypes: float64(7), int64(3), object(1)\n",
      "memory usage: 34.9+ KB\n"
     ]
    }
   ],
   "source": [
    "filtered_df1_ant.info()"
   ]
  },
  {
   "cell_type": "code",
   "execution_count": null,
   "metadata": {},
   "outputs": [],
   "source": [
    "filtered_df2_ant = pd.read_csv('.\\\\filtered_df2_ant.csv')"
   ]
  },
  {
   "cell_type": "code",
   "execution_count": null,
   "metadata": {},
   "outputs": [],
   "source": [
    "#Ram and Shivangee dataset\n",
    "filtered_df2_ant['final'] = np.where(np.abs(filtered_df2_ant['Binary_classfication(Ram)'] - filtered_df2_ant['Binary_classfication(Shivangee)']) == 1, filtered_df2_ant['resolve'].where(pd.notna(filtered_df2_ant['resolve'])), np.nan)\n",
    "filtered_df2_ant.loc[np.abs(filtered_df2_ant['Binary_classfication(Ram)'] - filtered_df2_ant['Binary_classfication(Shivangee)']) == 0, 'final'] = filtered_df2_ant['Binary_classfication(Ram)']\n",
    "\n",
    "filtered_df2_ant = filtered_df2_ant.drop(['resolve', 'agreement'], axis=1)"
   ]
  },
  {
   "cell_type": "code",
   "execution_count": null,
   "metadata": {},
   "outputs": [
    {
     "name": "stdout",
     "output_type": "stream",
     "text": [
      "<class 'pandas.core.frame.DataFrame'>\n",
      "RangeIndex: 404 entries, 0 to 403\n",
      "Data columns (total 12 columns):\n",
      " #   Column                           Non-Null Count  Dtype  \n",
      "---  ------                           --------------  -----  \n",
      " 0   Anti_Racism_post                 404 non-null    object \n",
      " 1   Toxicity                         404 non-null    float64\n",
      " 2   Severe_Toxicity                  404 non-null    float64\n",
      " 3   Profanity                        404 non-null    float64\n",
      " 4   Insult                           404 non-null    float64\n",
      " 5   Threat                           404 non-null    float64\n",
      " 6   Identity_Attack                  404 non-null    float64\n",
      " 7   Toxicity_cat                     404 non-null    int64  \n",
      " 8   Binary_classfication(Shivangee)  396 non-null    float64\n",
      " 9   Binary_classfication(Ram)        396 non-null    float64\n",
      " 10  remark                           4 non-null      object \n",
      " 11  final                            393 non-null    float64\n",
      "dtypes: float64(9), int64(1), object(2)\n",
      "memory usage: 38.0+ KB\n"
     ]
    }
   ],
   "source": [
    "filtered_df2_ant.info()"
   ]
  },
  {
   "cell_type": "code",
   "execution_count": null,
   "metadata": {},
   "outputs": [],
   "source": [
    "filtered_df2_ant.to_csv('filtered_df2_ant.csv', index = False)"
   ]
  },
  {
   "cell_type": "code",
   "execution_count": null,
   "metadata": {},
   "outputs": [],
   "source": []
  },
  {
   "cell_type": "code",
   "execution_count": null,
   "metadata": {},
   "outputs": [],
   "source": [
    "filtered_df1_ant_2 = pd.read_csv('./filtered_df1_ant_2.csv')"
   ]
  },
  {
   "cell_type": "code",
   "execution_count": null,
   "metadata": {},
   "outputs": [],
   "source": [
    "difference = filtered_df1_ant_2[abs(filtered_df1_ant_2['Binary_classfication(Atif)'] - filtered_df1_ant_2['Binary_classfication(Abdul)']) == 1]"
   ]
  },
  {
   "cell_type": "code",
   "execution_count": null,
   "metadata": {},
   "outputs": [
    {
     "data": {
      "text/plain": [
       "(60, 13)"
      ]
     },
     "execution_count": 25,
     "metadata": {},
     "output_type": "execute_result"
    }
   ],
   "source": [
    "difference.shape"
   ]
  },
  {
   "cell_type": "code",
   "execution_count": null,
   "metadata": {},
   "outputs": [
    {
     "data": {
      "text/plain": [
       "0"
      ]
     },
     "execution_count": 26,
     "metadata": {},
     "output_type": "execute_result"
    }
   ],
   "source": [
    "difference['final'].isna().sum()"
   ]
  },
  {
   "cell_type": "code",
   "execution_count": null,
   "metadata": {},
   "outputs": [
    {
     "name": "stdout",
     "output_type": "stream",
     "text": [
      "<class 'pandas.core.frame.DataFrame'>\n",
      "Index: 60 entries, 0 to 404\n",
      "Data columns (total 13 columns):\n",
      " #   Column                         Non-Null Count  Dtype  \n",
      "---  ------                         --------------  -----  \n",
      " 0   Anti_Racism_post               60 non-null     object \n",
      " 1   Toxicity                       60 non-null     float64\n",
      " 2   Severe_Toxicity                60 non-null     float64\n",
      " 3   Profanity                      60 non-null     float64\n",
      " 4   Insult                         60 non-null     float64\n",
      " 5   Threat                         60 non-null     float64\n",
      " 6   Identity_Attack                60 non-null     float64\n",
      " 7   Toxicity_cat                   60 non-null     int64  \n",
      " 8   Binary_classfication(Atif)     60 non-null     float64\n",
      " 9   special categorization(Atif)   7 non-null      float64\n",
      " 10  Binary_classfication(Abdul)    60 non-null     float64\n",
      " 11  special categorization(Abdul)  8 non-null      float64\n",
      " 12  final                          60 non-null     object \n",
      "dtypes: float64(10), int64(1), object(2)\n",
      "memory usage: 6.6+ KB\n"
     ]
    }
   ],
   "source": [
    "difference.info()"
   ]
  }
 ],
 "metadata": {
  "kernelspec": {
   "display_name": "Python 3",
   "language": "python",
   "name": "python3"
  },
  "language_info": {
   "codemirror_mode": {
    "name": "ipython",
    "version": 3
   },
   "file_extension": ".py",
   "mimetype": "text/x-python",
   "name": "python",
   "nbconvert_exporter": "python",
   "pygments_lexer": "ipython3",
   "version": "3.12.0"
  }
 },
 "nbformat": 4,
 "nbformat_minor": 2
}
