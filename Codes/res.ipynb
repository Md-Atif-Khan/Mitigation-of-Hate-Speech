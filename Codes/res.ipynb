{
 "cells": [
  {
   "cell_type": "code",
   "execution_count": 2,
   "metadata": {},
   "outputs": [],
   "source": [
    "import pandas as pd\n",
    "from pandas import json_normalize\n",
    "import json"
   ]
  },
  {
   "cell_type": "code",
   "execution_count": 6,
   "metadata": {},
   "outputs": [],
   "source": [
    "# JSON data\n",
    "json_data = \"\"\"\n",
    "[\n",
    "    {\n",
    "        \"info\": {\n",
    "            \"username\": \"Donald J. Trump\",\n",
    "            \"userid\": \"@realDonaldTrump\",\n",
    "            \"time\": \"\",\n",
    "            \"hash\": \"root\"\n",
    "        },\n",
    "        \"reply\": {\n",
    "            \"text\": \"The people of Germany are turning against their leadership as migration is rocking the already tenuous Berlin coalition. Crime in Germany is way up. Big mistake made all over Europe in allowing millions of people in who have so strongly and violently changed their culture!\",\n",
    "            \"img\": [],\n",
    "            \"video\": []\n",
    "        }\n",
    "    },\n",
    "    {\n",
    "        \"info\": {\n",
    "            \"username\": \"Shraga Stern\",\n",
    "            \"userid\": \"@c3f308fa932d4ab\",\n",
    "            \"time\": \"2018-06-18T13:21:07.000Z\",\n",
    "            \"hash\": 6723808038756355849\n",
    "        },\n",
    "        \"reply\": {\n",
    "            \"text\": \"Replying to @realDonaldTrump Germany is lost. Thanks to merkel.\",\n",
    "            \"img\": [],\n",
    "            \"video\": []\n",
    "        }\n",
    "    }\n",
    "]\n",
    "\"\"\""
   ]
  },
  {
   "cell_type": "code",
   "execution_count": null,
   "metadata": {},
   "outputs": [],
   "source": [
    "\n",
    "# Load JSON data\n",
    "data = json.loads(json_data)\n",
    "\n",
    "# Flatten the nested structure using json_normalize\n",
    "df_root = json_normalize(data, max_level=1)\n",
    "# df_comments = json_normalize(data[1:], 'info')\n",
    "\n",
    "# Combine the root tweet and comments into a single dataframe\n",
    "# df = pd.concat([df_root, df_comments])\n",
    "\n",
    "# Display the DataFrame\n",
    "# print(df)\n",
    "print(df_root)\n",
    "# df_root.shape"
   ]
  },
  {
   "cell_type": "code",
   "execution_count": 16,
   "metadata": {},
   "outputs": [],
   "source": [
    "df_root.to_csv('output.csv', index=False)"
   ]
  }
 ],
 "metadata": {
  "kernelspec": {
   "display_name": "Python 3",
   "language": "python",
   "name": "python3"
  },
  "language_info": {
   "codemirror_mode": {
    "name": "ipython",
    "version": 3
   },
   "file_extension": ".py",
   "mimetype": "text/x-python",
   "name": "python",
   "nbconvert_exporter": "python",
   "pygments_lexer": "ipython3",
   "version": "3.11.0"
  }
 },
 "nbformat": 4,
 "nbformat_minor": 2
}
