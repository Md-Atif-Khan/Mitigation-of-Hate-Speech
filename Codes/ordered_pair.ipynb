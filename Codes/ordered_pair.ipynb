{
 "cells": [
  {
   "cell_type": "code",
   "execution_count": 1,
   "metadata": {},
   "outputs": [
    {
     "name": "stderr",
     "output_type": "stream",
     "text": [
      "<>:5: SyntaxWarning: invalid escape sequence '\\C'\n",
      "<>:6: SyntaxWarning: invalid escape sequence '\\C'\n",
      "<>:5: SyntaxWarning: invalid escape sequence '\\C'\n",
      "<>:6: SyntaxWarning: invalid escape sequence '\\C'\n",
      "C:\\Users\\saskh\\AppData\\Local\\Temp\\ipykernel_12880\\3901072511.py:5: SyntaxWarning: invalid escape sequence '\\C'\n",
      "  input_folder = 'D:\\Codes\\Python\\HateSpeech_res\\Final dataset above threshold(Anti-Racism)\\Original dataset'\n",
      "C:\\Users\\saskh\\AppData\\Local\\Temp\\ipykernel_12880\\3901072511.py:6: SyntaxWarning: invalid escape sequence '\\C'\n",
      "  output_folder = 'D:\\Codes\\Python\\HateSpeech_res\\Final dataset above threshold(Anti-Racism)\\ordered_pair(Anti-Racism)'\n",
      "C:\\Users\\saskh\\AppData\\Local\\Temp\\ipykernel_12880\\3901072511.py:1: DeprecationWarning: \n",
      "Pyarrow will become a required dependency of pandas in the next major release of pandas (pandas 3.0),\n",
      "(to allow more performant data types, such as the Arrow string type, and better interoperability with other libraries)\n",
      "but was not found to be installed on your system.\n",
      "If this would cause problems for you,\n",
      "please provide us feedback at https://github.com/pandas-dev/pandas/issues/54466\n",
      "        \n",
      "  import pandas as pd\n"
     ]
    }
   ],
   "source": [
    "import pandas as pd\n",
    "import os\n",
    "\n",
    "# Input and output folder paths\n",
    "input_folder = 'D:\\Codes\\Python\\HateSpeech_res\\Final dataset above threshold(Anti-Racism)\\Original dataset'\n",
    "output_folder = 'D:\\Codes\\Python\\HateSpeech_res\\Final dataset above threshold(Anti-Racism)\\ordered_pair(Anti-Racism)'\n",
    "\n",
    "# Create the output folder if it doesn't exist\n",
    "os.makedirs(output_folder, exist_ok=True)\n",
    "\n",
    "# List all files in the input directory\n",
    "files = os.listdir(input_folder)"
   ]
  },
  {
   "cell_type": "code",
   "execution_count": 2,
   "metadata": {},
   "outputs": [],
   "source": [
    "for file_name in files:\n",
    "    if file_name.endswith('.csv'):\n",
    "        input_file_path = os.path.join(input_folder, file_name)\n",
    "        output_file_path = os.path.join(output_folder, file_name)\n",
    "        \n",
    "        df = pd.read_csv(input_file_path)\n",
    "        df['text'] = df['text'].apply(lambda text: ' '.join(text.split()))\n",
    "\n",
    "        first_row_text = df.iloc[0]['text']\n",
    "\n",
    "        def concat(text):\n",
    "            return f\"{first_row_text}\\n{text}\"\n",
    "        df.loc[1:, 'text'] = df.loc[1:, 'text'].apply(concat)\n",
    "        \n",
    "        df.to_csv(output_file_path, index=False, encoding='utf-8')"
   ]
  }
 ],
 "metadata": {
  "kernelspec": {
   "display_name": "Python 3",
   "language": "python",
   "name": "python3"
  },
  "language_info": {
   "codemirror_mode": {
    "name": "ipython",
    "version": 3
   },
   "file_extension": ".py",
   "mimetype": "text/x-python",
   "name": "python",
   "nbconvert_exporter": "python",
   "pygments_lexer": "ipython3",
   "version": "3.12.0"
  }
 },
 "nbformat": 4,
 "nbformat_minor": 2
}
